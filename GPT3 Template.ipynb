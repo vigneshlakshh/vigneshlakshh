{
  "nbformat": 4,
  "nbformat_minor": 0,
  "metadata": {
    "colab": {
      "provenance": [],
      "authorship_tag": "ABX9TyNN0QuwLH4UuHWMS23GTzNh",
      "include_colab_link": true
    },
    "kernelspec": {
      "name": "python3",
      "display_name": "Python 3"
    },
    "language_info": {
      "name": "python"
    }
  },
  "cells": [
    {
      "cell_type": "markdown",
      "metadata": {
        "id": "view-in-github",
        "colab_type": "text"
      },
      "source": [
        "<a href=\"https://colab.research.google.com/github/vigneshlakshh/vigneshlakshh/blob/main/GPT3%20Template.ipynb\" target=\"_parent\"><img src=\"https://colab.research.google.com/assets/colab-badge.svg\" alt=\"Open In Colab\"/></a>"
      ]
    },
    {
      "cell_type": "code",
      "execution_count": 2,
      "metadata": {
        "id": "EybkQ41NSOST"
      },
      "outputs": [],
      "source": [
        "import sqlite3"
      ]
    },
    {
      "cell_type": "code",
      "source": [
        "conn=sqlite3.connect(\"students.db\")"
      ],
      "metadata": {
        "id": "jU9mylIYSXRU"
      },
      "execution_count": 3,
      "outputs": []
    },
    {
      "cell_type": "code",
      "source": [
        "conn.execute('''\n",
        "\n",
        "'''\n",
        ")\n",
        "conn.commit()\n",
        "print(\" TABLE CREATED\");"
      ],
      "metadata": {
        "id": "X9m1dzxkSXOM"
      },
      "execution_count": null,
      "outputs": []
    },
    {
      "cell_type": "code",
      "source": [
        "conn.execute('''\n",
        "\n",
        "'''\n",
        ")\n",
        "conn.commit()\n",
        "print(\" TABLE CREATED\");"
      ],
      "metadata": {
        "id": "IfY7p0vlSXLd"
      },
      "execution_count": null,
      "outputs": []
    },
    {
      "cell_type": "code",
      "source": [
        "conn.execute('''\n",
        "\n",
        "'''\n",
        ")\n",
        "conn.commit()\n",
        "print(\" TABLE CREATED\");"
      ],
      "metadata": {
        "id": "DhFkwVndSXHv"
      },
      "execution_count": null,
      "outputs": []
    },
    {
      "cell_type": "code",
      "source": [
        "conn.execute('''\n",
        "\n",
        "'''\n",
        ")\n",
        "conn.commit()\n",
        "print(\" TABLE CREATED\");"
      ],
      "metadata": {
        "id": "Howagi7BSXEe"
      },
      "execution_count": null,
      "outputs": []
    },
    {
      "cell_type": "markdown",
      "source": [],
      "metadata": {
        "id": "TzBI05KlVKmV"
      }
    },
    {
      "cell_type": "code",
      "source": [
        "\n",
        "conn.execute(\"\")\n",
        "conn.execute(\"\")\n",
        "conn.execute(\"\")\n",
        "conn.execute(\"\")\n",
        "conn.execute(\"\")\n",
        "conn.execute(\"\")\n",
        "conn.execute(\"\")\n",
        "conn.execute(\"\")\n",
        "conn.execute(\"\")\n",
        "conn.execute(\"\")\n",
        "conn.execute(\"\")\n",
        "conn.commit()"
      ],
      "metadata": {
        "id": "X3uV9XvMSXAt"
      },
      "execution_count": 6,
      "outputs": []
    },
    {
      "cell_type": "markdown",
      "source": [],
      "metadata": {
        "id": "4YuM2voWVMdI"
      }
    },
    {
      "cell_type": "code",
      "source": [
        "\n",
        "conn.execute(\"\")\n",
        "conn.execute(\"\")\n",
        "conn.execute(\"\")\n",
        "conn.execute(\"\")\n",
        "conn.execute(\"\")\n",
        "conn.execute(\"\")\n",
        "conn.execute(\"\")\n",
        "conn.execute(\"\")\n",
        "conn.execute(\"\")\n",
        "conn.execute(\"\")\n",
        "conn.execute(\"\")\n",
        "conn.commit()"
      ],
      "metadata": {
        "id": "bkyl7bkPSW74"
      },
      "execution_count": null,
      "outputs": []
    },
    {
      "cell_type": "markdown",
      "source": [],
      "metadata": {
        "id": "g5fVZJu9VN4f"
      }
    },
    {
      "cell_type": "code",
      "source": [
        "\n",
        "conn.execute(\"\")\n",
        "conn.execute(\"\")\n",
        "conn.execute(\"\")\n",
        "conn.execute(\"\")\n",
        "conn.execute(\"\")\n",
        "conn.execute(\"\")\n",
        "conn.execute(\"\")\n",
        "conn.execute(\"\")\n",
        "conn.execute(\"\")\n",
        "conn.execute(\"\")\n",
        "conn.execute(\"\")\n",
        "conn.commit()"
      ],
      "metadata": {
        "id": "G2kqodBBSW5U"
      },
      "execution_count": null,
      "outputs": []
    },
    {
      "cell_type": "markdown",
      "source": [],
      "metadata": {
        "id": "IsJl8PVIVOWt"
      }
    },
    {
      "cell_type": "code",
      "source": [
        "\n",
        "conn.execute(\"\")\n",
        "conn.execute(\"\")\n",
        "conn.execute(\"\")\n",
        "conn.execute(\"\")\n",
        "conn.execute(\"\")\n",
        "conn.execute(\"\")\n",
        "conn.execute(\"\")\n",
        "conn.execute(\"\")\n",
        "conn.execute(\"\")\n",
        "conn.execute(\"\")\n",
        "conn.execute(\"\")\n",
        "conn.commit()"
      ],
      "metadata": {
        "id": "DPGA1k7dSW3I"
      },
      "execution_count": null,
      "outputs": []
    },
    {
      "cell_type": "code",
      "source": [],
      "metadata": {
        "id": "uTdsANmNSW07"
      },
      "execution_count": null,
      "outputs": []
    },
    {
      "cell_type": "code",
      "source": [],
      "metadata": {
        "id": "1RXmo-SPSWyh"
      },
      "execution_count": null,
      "outputs": []
    },
    {
      "cell_type": "code",
      "source": [],
      "metadata": {
        "id": "LbLxbwSUSWv5"
      },
      "execution_count": null,
      "outputs": []
    },
    {
      "cell_type": "code",
      "source": [],
      "metadata": {
        "id": "hhwpeleZSWtN"
      },
      "execution_count": null,
      "outputs": []
    }
  ]
}