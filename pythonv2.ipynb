{
  "nbformat": 4,
  "nbformat_minor": 0,
  "metadata": {
    "colab": {
      "provenance": [],
      "collapsed_sections": [],
      "authorship_tag": "ABX9TyOrGmSZvFvHiWPmdXowmLn5",
      "include_colab_link": true
    },
    "kernelspec": {
      "name": "python3",
      "display_name": "Python 3"
    },
    "language_info": {
      "name": "python"
    }
  },
  "cells": [
    {
      "cell_type": "markdown",
      "metadata": {
        "id": "view-in-github",
        "colab_type": "text"
      },
      "source": [
        "<a href=\"https://colab.research.google.com/github/vigneshlakshh/vigneshlakshh/blob/main/pythonv2.ipynb\" target=\"_parent\"><img src=\"https://colab.research.google.com/assets/colab-badge.svg\" alt=\"Open In Colab\"/></a>"
      ]
    },
    {
      "cell_type": "markdown",
      "source": [
        "**PRINT**"
      ],
      "metadata": {
        "id": "D9eBzSr54zH7"
      }
    },
    {
      "cell_type": "code",
      "execution_count": 1,
      "metadata": {
        "colab": {
          "base_uri": "https://localhost:8080/"
        },
        "id": "pw0sHffT4B8F",
        "outputId": "29934b5c-3045-43af-9634-e51b679336e0"
      },
      "outputs": [
        {
          "output_type": "stream",
          "name": "stdout",
          "text": [
            "Hello'world\n"
          ]
        }
      ],
      "source": [
        "print(\"Hello'world\")"
      ]
    },
    {
      "cell_type": "code",
      "source": [
        "print('welcome to machine learning course')"
      ],
      "metadata": {
        "colab": {
          "base_uri": "https://localhost:8080/"
        },
        "id": "4MY8UEl14Kow",
        "outputId": "fd012f0a-8249-4230-c32f-24143ffcd1ea"
      },
      "execution_count": 2,
      "outputs": [
        {
          "output_type": "stream",
          "name": "stdout",
          "text": [
            "welcome to machine learning course\n"
          ]
        }
      ]
    },
    {
      "cell_type": "code",
      "source": [
        "print(\"ML\"+ \" AI\"+\" Deep learning\")"
      ],
      "metadata": {
        "colab": {
          "base_uri": "https://localhost:8080/"
        },
        "id": "PTNrqSRe4Krq",
        "outputId": "979fa09c-6b67-4ba3-d951-2d586bdad639"
      },
      "execution_count": 5,
      "outputs": [
        {
          "output_type": "stream",
          "name": "stdout",
          "text": [
            "ML AI Deep learning\n"
          ]
        }
      ]
    },
    {
      "cell_type": "code",
      "source": [
        "print(88)"
      ],
      "metadata": {
        "colab": {
          "base_uri": "https://localhost:8080/"
        },
        "id": "hlNTj4F_4Ktp",
        "outputId": "9da17065-f86b-4cd0-cc15-202345493271"
      },
      "execution_count": 6,
      "outputs": [
        {
          "output_type": "stream",
          "name": "stdout",
          "text": [
            "88\n"
          ]
        }
      ]
    },
    {
      "cell_type": "code",
      "source": [
        "print(20*2)"
      ],
      "metadata": {
        "colab": {
          "base_uri": "https://localhost:8080/"
        },
        "id": "8aSV-XOp4Kv8",
        "outputId": "98793a15-703d-42c6-984e-3233819b4ad9"
      },
      "execution_count": 7,
      "outputs": [
        {
          "output_type": "stream",
          "name": "stdout",
          "text": [
            "40\n"
          ]
        }
      ]
    },
    {
      "cell_type": "markdown",
      "source": [
        "**DATA TYPES int,float,string,complex,boolean**\n"
      ],
      "metadata": {
        "id": "Idwdp6P6535O"
      }
    },
    {
      "cell_type": "code",
      "source": [
        "8\n",
        "print(type(8))"
      ],
      "metadata": {
        "colab": {
          "base_uri": "https://localhost:8080/"
        },
        "id": "JV0zWVmf4Kyf",
        "outputId": "71c2b123-ab6d-4863-a225-7f533217f100"
      },
      "execution_count": 9,
      "outputs": [
        {
          "output_type": "stream",
          "name": "stdout",
          "text": [
            "<class 'int'>\n"
          ]
        }
      ]
    },
    {
      "cell_type": "code",
      "source": [
        "77.20\n",
        "print(type(77.20))"
      ],
      "metadata": {
        "colab": {
          "base_uri": "https://localhost:8080/"
        },
        "id": "2I-o6CLi4K0z",
        "outputId": "f21f5d30-0104-4384-f2e6-386d20c5adfa"
      },
      "execution_count": 10,
      "outputs": [
        {
          "output_type": "stream",
          "name": "stdout",
          "text": [
            "<class 'float'>\n"
          ]
        }
      ]
    },
    {
      "cell_type": "code",
      "source": [
        "print(type(\"Vignesh\"))"
      ],
      "metadata": {
        "colab": {
          "base_uri": "https://localhost:8080/"
        },
        "id": "BA5IOSpt4K24",
        "outputId": "3dcbf8b2-c345-45e2-b2e9-5d213adfe758"
      },
      "execution_count": 11,
      "outputs": [
        {
          "output_type": "stream",
          "name": "stdout",
          "text": [
            "<class 'str'>\n"
          ]
        }
      ]
    },
    {
      "cell_type": "code",
      "source": [
        "print(\"hello\\n\"*5)"
      ],
      "metadata": {
        "colab": {
          "base_uri": "https://localhost:8080/"
        },
        "id": "uoIXLz5j_OU_",
        "outputId": "6361f6c3-10b5-4b87-9c2c-c461c7e927e2"
      },
      "execution_count": 36,
      "outputs": [
        {
          "output_type": "stream",
          "name": "stdout",
          "text": [
            "hello\n",
            "hello\n",
            "hello\n",
            "hello\n",
            "hello\n",
            "\n"
          ]
        }
      ]
    },
    {
      "cell_type": "code",
      "source": [
        "a=(\"vignesh\")\n",
        "print(a[0])\n",
        "print(a[0:4])\n",
        "print(a[0:5:2])\n",
        "print(a[:])\n",
        "print(a[:4])\n",
        "print(a[4:])\n",
        "print(a[-1])\n",
        "print(a[-2])\n"
      ],
      "metadata": {
        "colab": {
          "base_uri": "https://localhost:8080/"
        },
        "id": "bQ8p_d0L_ZTh",
        "outputId": "75d73a3f-8a39-45d4-f549-9b339e31fc34"
      },
      "execution_count": 46,
      "outputs": [
        {
          "output_type": "stream",
          "name": "stdout",
          "text": [
            "v\n",
            "vign\n",
            "vge\n",
            "vignesh\n",
            "vign\n",
            "esh\n",
            "h\n",
            "s\n"
          ]
        }
      ]
    },
    {
      "cell_type": "code",
      "source": [
        "w1=\"Machine\"\n",
        "w2=\"learing\"\n",
        "print(w1+w2)"
      ],
      "metadata": {
        "colab": {
          "base_uri": "https://localhost:8080/"
        },
        "id": "HGVByIz7_ZHJ",
        "outputId": "0a747544-6129-48c5-bcd0-a117ddda72a0"
      },
      "execution_count": 47,
      "outputs": [
        {
          "output_type": "stream",
          "name": "stdout",
          "text": [
            "Machinelearing\n"
          ]
        }
      ]
    },
    {
      "cell_type": "code",
      "source": [
        "c=1+3j\n",
        "print(c)\n",
        "type(c)"
      ],
      "metadata": {
        "colab": {
          "base_uri": "https://localhost:8080/"
        },
        "id": "qa9X4qox-N5N",
        "outputId": "948eed77-15ab-4582-8b66-c7252438c292"
      },
      "execution_count": 30,
      "outputs": [
        {
          "output_type": "stream",
          "name": "stdout",
          "text": [
            "(1+3j)\n"
          ]
        },
        {
          "output_type": "execute_result",
          "data": {
            "text/plain": [
              "complex"
            ]
          },
          "metadata": {},
          "execution_count": 30
        }
      ]
    },
    {
      "cell_type": "code",
      "source": [
        "a=True\n",
        "b=False\n",
        "type(a)\n",
        "type(b)"
      ],
      "metadata": {
        "colab": {
          "base_uri": "https://localhost:8080/"
        },
        "id": "tKK6diey-N2b",
        "outputId": "8a5ffa48-d1e7-402f-dbcf-f3467efd4679"
      },
      "execution_count": 32,
      "outputs": [
        {
          "output_type": "execute_result",
          "data": {
            "text/plain": [
              "bool"
            ]
          },
          "metadata": {},
          "execution_count": 32
        }
      ]
    },
    {
      "cell_type": "code",
      "source": [
        "a=7<3\n",
        "print(a)\n",
        "type(a)"
      ],
      "metadata": {
        "colab": {
          "base_uri": "https://localhost:8080/"
        },
        "id": "0F0EZKyV-NrO",
        "outputId": "a01c2f7a-c804-4a1e-b51d-9e335f4f4291"
      },
      "execution_count": 34,
      "outputs": [
        {
          "output_type": "stream",
          "name": "stdout",
          "text": [
            "False\n"
          ]
        },
        {
          "output_type": "execute_result",
          "data": {
            "text/plain": [
              "bool"
            ]
          },
          "metadata": {},
          "execution_count": 34
        }
      ]
    },
    {
      "cell_type": "markdown",
      "source": [
        "**constant and variables**"
      ],
      "metadata": {
        "id": "5aBRwW_W6Zq6"
      }
    },
    {
      "cell_type": "code",
      "source": [
        "a=\"vignesh\"\n",
        "a"
      ],
      "metadata": {
        "colab": {
          "base_uri": "https://localhost:8080/",
          "height": 35
        },
        "id": "NL7HTR956Y7g",
        "outputId": "9d74a131-e4dc-4083-b747-a8fb0ba5158a"
      },
      "execution_count": 13,
      "outputs": [
        {
          "output_type": "execute_result",
          "data": {
            "text/plain": [
              "'vignesh'"
            ],
            "application/vnd.google.colaboratory.intrinsic+json": {
              "type": "string"
            }
          },
          "metadata": {},
          "execution_count": 13
        }
      ]
    },
    {
      "cell_type": "code",
      "source": [
        "a,b=1,2\n",
        "print(a,b)\n",
        "print(b)\n",
        "print(a)"
      ],
      "metadata": {
        "colab": {
          "base_uri": "https://localhost:8080/"
        },
        "id": "aGX8U8zf4K5b",
        "outputId": "95611a70-fbf0-494d-e9c9-3fcdf1318d28"
      },
      "execution_count": 16,
      "outputs": [
        {
          "output_type": "stream",
          "name": "stdout",
          "text": [
            "1 2\n",
            "2\n",
            "1\n"
          ]
        }
      ]
    },
    {
      "cell_type": "code",
      "source": [
        "a=b=c=9566\n",
        "print(a)\n",
        "print(b)\n",
        "print(c)"
      ],
      "metadata": {
        "colab": {
          "base_uri": "https://localhost:8080/"
        },
        "id": "ppDlsjmG4K8F",
        "outputId": "31b5ee5e-3f39-44a8-fe86-21d0c271d6ba"
      },
      "execution_count": 18,
      "outputs": [
        {
          "output_type": "stream",
          "name": "stdout",
          "text": [
            "9566\n",
            "9566\n",
            "9566\n"
          ]
        }
      ]
    },
    {
      "cell_type": "markdown",
      "source": [
        "**Input function**"
      ],
      "metadata": {
        "id": "qobzPfZH7wNU"
      }
    },
    {
      "cell_type": "code",
      "source": [
        "a=input(\"enter one no \")  #NOTE IT ASSUMES IT AS STRING\n",
        "b=input(\"eneter another no \")\n",
        "sum=a+b\n",
        "print(sum)"
      ],
      "metadata": {
        "colab": {
          "base_uri": "https://localhost:8080/"
        },
        "id": "3nOhkg7X4K-r",
        "outputId": "da4b920f-b353-4f4d-b3e8-9bb7331b0a17"
      },
      "execution_count": 22,
      "outputs": [
        {
          "output_type": "stream",
          "name": "stdout",
          "text": [
            "enter one no 23\n",
            "eneter another no 7\n",
            "237\n"
          ]
        }
      ]
    },
    {
      "cell_type": "code",
      "source": [
        "a=int(input(\"enter one no \"))  ##to make addition\n",
        "b=int(input(\"eneter another no \"))\n",
        "sum=a+b\n",
        "print(sum)"
      ],
      "metadata": {
        "colab": {
          "base_uri": "https://localhost:8080/"
        },
        "id": "LNBs2eoo4LBH",
        "outputId": "9d419060-0179-4578-84d0-4d7768a90897"
      },
      "execution_count": 23,
      "outputs": [
        {
          "output_type": "stream",
          "name": "stdout",
          "text": [
            "enter one no 23\n",
            "eneter another no 7\n",
            "30\n"
          ]
        }
      ]
    },
    {
      "cell_type": "code",
      "source": [
        "a=7\n",
        "print(a)\n",
        "print(type(a))\n",
        "print(float(a))\n",
        "print(type(float(a)))\n"
      ],
      "metadata": {
        "colab": {
          "base_uri": "https://localhost:8080/"
        },
        "id": "xI9Dv-3g4LDq",
        "outputId": "421bd68a-8feb-49ab-db4b-ff88bee17705"
      },
      "execution_count": 28,
      "outputs": [
        {
          "output_type": "stream",
          "name": "stdout",
          "text": [
            "7\n",
            "<class 'int'>\n",
            "7.0\n",
            "<class 'float'>\n"
          ]
        }
      ]
    },
    {
      "cell_type": "markdown",
      "source": [
        "**Special Data Types -List,tuple,set,Dictonary**"
      ],
      "metadata": {
        "id": "tLCygJhvA11i"
      }
    },
    {
      "cell_type": "markdown",
      "source": [
        "MUTABLE OBJ-values can changed\n",
        "list,set,dict\n",
        "\n",
        "IMUTABLE OBJ-values cannot be changed once created\n",
        "int,float,str,bool,tuple"
      ],
      "metadata": {
        "id": "ZHEmpW8fCGrE"
      }
    },
    {
      "cell_type": "markdown",
      "source": [
        "LIST ARE MUTABLE"
      ],
      "metadata": {
        "id": "NFs4qkmfDpQM"
      }
    },
    {
      "cell_type": "code",
      "source": [
        "my_lis=[1,2,3,4,5]\n",
        "print(my_lis)\n",
        "type(my_lis)"
      ],
      "metadata": {
        "colab": {
          "base_uri": "https://localhost:8080/"
        },
        "id": "8GH2kfgC4LF9",
        "outputId": "717c2734-950b-441b-d708-68da58798ba9"
      },
      "execution_count": 48,
      "outputs": [
        {
          "output_type": "stream",
          "name": "stdout",
          "text": [
            "[1, 2, 3, 4, 5]\n"
          ]
        },
        {
          "output_type": "execute_result",
          "data": {
            "text/plain": [
              "list"
            ]
          },
          "metadata": {},
          "execution_count": 48
        }
      ]
    },
    {
      "cell_type": "code",
      "source": [
        "my_lis=['a','b','c','d']\n",
        "print(my_lis)\n",
        "type(my_lis)"
      ],
      "metadata": {
        "colab": {
          "base_uri": "https://localhost:8080/"
        },
        "id": "KYw6gVB64LId",
        "outputId": "7b58ac87-7ef5-428f-bddd-e8151f56d38d"
      },
      "execution_count": 49,
      "outputs": [
        {
          "output_type": "stream",
          "name": "stdout",
          "text": [
            "['a', 'b', 'c', 'd']\n"
          ]
        },
        {
          "output_type": "execute_result",
          "data": {
            "text/plain": [
              "list"
            ]
          },
          "metadata": {},
          "execution_count": 49
        }
      ]
    },
    {
      "cell_type": "code",
      "source": [
        "my_lis=[1,2.0,'a','d',\"vignesh\"]  #can have multiple data types\n",
        "\n",
        "print(my_lis)\n",
        "type(my_lis)"
      ],
      "metadata": {
        "colab": {
          "base_uri": "https://localhost:8080/"
        },
        "id": "CiLMrOpY4LLD",
        "outputId": "b65dc163-27a5-4400-f39f-bc8ede8363da"
      },
      "execution_count": 51,
      "outputs": [
        {
          "output_type": "stream",
          "name": "stdout",
          "text": [
            "[1, 2.0, 'a', 'd', 'vignesh']\n"
          ]
        },
        {
          "output_type": "execute_result",
          "data": {
            "text/plain": [
              "list"
            ]
          },
          "metadata": {},
          "execution_count": 51
        }
      ]
    },
    {
      "cell_type": "code",
      "source": [
        "my_lis=[1,2.0,'a','d',\"vignesh\"] \n",
        "print(my_lis)\n",
        "my_lis.append(6)\n",
        "print(my_lis)\n",
        "my_lis.append(\"sai krish\")\n",
        "print(my_lis)\n",
        "type(my_lis)\n",
        "print(my_lis[0])\n",
        "print(my_lis[2])\n",
        "print(my_lis[2:7])\n"
      ],
      "metadata": {
        "colab": {
          "base_uri": "https://localhost:8080/"
        },
        "id": "RwXPehPx4LNm",
        "outputId": "3893bcad-a8f8-473c-f181-b4368cf0a083"
      },
      "execution_count": 67,
      "outputs": [
        {
          "output_type": "stream",
          "name": "stdout",
          "text": [
            "[1, 2.0, 'a', 'd', 'vignesh']\n",
            "[1, 2.0, 'a', 'd', 'vignesh', 6]\n",
            "[1, 2.0, 'a', 'd', 'vignesh', 6, 'sai krish']\n",
            "1\n",
            "a\n",
            "['a', 'd', 'vignesh', 6, 'sai krish']\n"
          ]
        }
      ]
    },
    {
      "cell_type": "code",
      "source": [
        "lis1=[1,2,3]\n",
        "lis2=[1,1,1]\n",
        "lis3=[]\n",
        "print(lis3)\n",
        "lis3=lis1+lis2\n",
        "print(lis3)\n",
        "print(len(lis3))\n",
        "lis3.append(7)\n",
        "print(lis3)\n",
        "del lis3[4]\n",
        "print(lis3)"
      ],
      "metadata": {
        "colab": {
          "base_uri": "https://localhost:8080/"
        },
        "id": "dVLVSmL_4LQJ",
        "outputId": "8cbaa54a-b960-4d41-ebbe-27dce748061a"
      },
      "execution_count": 66,
      "outputs": [
        {
          "output_type": "stream",
          "name": "stdout",
          "text": [
            "[]\n",
            "[1, 2, 3, 1, 1, 1]\n",
            "6\n",
            "[1, 2, 3, 1, 1, 1, 7]\n",
            "[1, 2, 3, 1, 1, 7]\n"
          ]
        }
      ]
    },
    {
      "cell_type": "markdown",
      "source": [
        "TUPLE-similar to list but immutable\n",
        "can have multiple datatypes in same tuple\n",
        "\n",
        ".append wont work here"
      ],
      "metadata": {
        "id": "LSJ7FDbAGDi5"
      }
    },
    {
      "cell_type": "code",
      "source": [
        "tup1=(1,2,3,4)\n",
        "print(type(tup1))\n",
        "tup1\n",
        "tup2=(1,2,77.2,\"vignesh\",\"sai\",False)\n",
        "print(type(tup2))"
      ],
      "metadata": {
        "colab": {
          "base_uri": "https://localhost:8080/"
        },
        "id": "-_OH_-0R4LSi",
        "outputId": "b00ed286-57f6-424b-d38e-e8ba4c2c1a67"
      },
      "execution_count": 71,
      "outputs": [
        {
          "output_type": "stream",
          "name": "stdout",
          "text": [
            "<class 'tuple'>\n",
            "<class 'tuple'>\n"
          ]
        }
      ]
    },
    {
      "cell_type": "markdown",
      "source": [
        "**convert list to tuple**"
      ],
      "metadata": {
        "id": "DXb9N9RqGr7v"
      }
    },
    {
      "cell_type": "code",
      "source": [
        "lis=[1,2,4,5,5,6,7,9]\n",
        "print(lis)\n",
        "print(type(lis))\n",
        "\n",
        "tup=tuple(lis)\n",
        "print(tup)\n",
        "print(type(tup))\n",
        "\n",
        "#indexing\n",
        "print(tup[0])\n",
        "print(tup[-2])\n",
        "\n",
        "\n",
        "#tup.append(6) will get attribute error as they are immutable\n",
        "\n",
        "print(len(tup))\n",
        "\n"
      ],
      "metadata": {
        "colab": {
          "base_uri": "https://localhost:8080/"
        },
        "id": "qsDmNWoD4LVJ",
        "outputId": "e0868516-7ab2-452a-b8f3-2c89ca4040d2"
      },
      "execution_count": 76,
      "outputs": [
        {
          "output_type": "stream",
          "name": "stdout",
          "text": [
            "[1, 2, 4, 5, 5, 6, 7, 9]\n",
            "<class 'list'>\n",
            "(1, 2, 4, 5, 5, 6, 7, 9)\n",
            "<class 'tuple'>\n",
            "1\n",
            "7\n",
            "8\n"
          ]
        }
      ]
    },
    {
      "cell_type": "markdown",
      "source": [
        "**SETS**\n",
        "\n",
        "INDEXING WONT WORK\n",
        "DOESNT ALLOW DUPLICATE VALUES"
      ],
      "metadata": {
        "id": "E6NUZTG9H56X"
      }
    },
    {
      "cell_type": "code",
      "source": [
        "s={1,2,3,4,5,6,7,8}\n",
        "print(s)\n",
        "print(type(s))\n",
        "#print(s[3]) #TypeError: 'set' object is not subscriptable"
      ],
      "metadata": {
        "colab": {
          "base_uri": "https://localhost:8080/"
        },
        "id": "9R6ytl-xH5a6",
        "outputId": "f237dcfb-67c3-46d5-b536-4d4501ff3160"
      },
      "execution_count": 79,
      "outputs": [
        {
          "output_type": "stream",
          "name": "stdout",
          "text": [
            "{1, 2, 3, 4, 5, 6, 7, 8}\n",
            "<class 'set'>\n"
          ]
        }
      ]
    },
    {
      "cell_type": "markdown",
      "source": [
        "**COnvert list to a set**"
      ],
      "metadata": {
        "id": "_3yZVvCAIiIn"
      }
    },
    {
      "cell_type": "code",
      "source": [
        "lis=[1,2,3,4,5,6]\n",
        "print(lis)\n",
        "print(type(lis))\n",
        "\n",
        "se=set(lis)\n",
        "print(se)\n",
        "print(type(se))\n"
      ],
      "metadata": {
        "colab": {
          "base_uri": "https://localhost:8080/"
        },
        "id": "jKwpOYxO4LX2",
        "outputId": "28427443-3430-4951-f678-0c900d77b80c"
      },
      "execution_count": 80,
      "outputs": [
        {
          "output_type": "stream",
          "name": "stdout",
          "text": [
            "[1, 2, 3, 4, 5, 6]\n",
            "<class 'list'>\n",
            "{1, 2, 3, 4, 5, 6}\n",
            "<class 'set'>\n"
          ]
        }
      ]
    },
    {
      "cell_type": "markdown",
      "source": [
        "**NO DUPLICATE ALLOWED IN SET**"
      ],
      "metadata": {
        "id": "TfdlFoduJKnO"
      }
    },
    {
      "cell_type": "code",
      "source": [
        "lis=[1,2,3,4,5,6,6,6,7,7,7,7]\n",
        "print(lis)\n",
        "print(type(lis))\n",
        "\n",
        "se=set(lis)\n",
        "print(se)\n",
        "print(type(se))"
      ],
      "metadata": {
        "colab": {
          "base_uri": "https://localhost:8080/"
        },
        "id": "LYJavQ0F4Lad",
        "outputId": "000413b6-2669-43e7-9041-211bddc39e87"
      },
      "execution_count": 81,
      "outputs": [
        {
          "output_type": "stream",
          "name": "stdout",
          "text": [
            "[1, 2, 3, 4, 5, 6, 6, 6, 7, 7, 7, 7]\n",
            "<class 'list'>\n",
            "{1, 2, 3, 4, 5, 6, 7}\n",
            "<class 'set'>\n"
          ]
        }
      ]
    },
    {
      "cell_type": "markdown",
      "source": [
        "**DICTIONARY NO DUPLICATE ALLOWED** "
      ],
      "metadata": {
        "id": "21Kd364nJlU8"
      }
    },
    {
      "cell_type": "code",
      "source": [
        "#dic={1:\"vignesh\",2:\"juju\",3:\"jaya\",a:\"bhu\",b:\"SLN\",c:\"123\",d:123,e:27.70,4:\"1\"}\n",
        "\n",
        "dic={1:\"vignesh\",2:\"juju\",3:\"jaya\"}\n",
        "print(dic)\n",
        "print(type(dic))\n",
        "\n",
        "dc2={1:\"vignesh\",2:\"juju\",3:\"jaya\",4:\"bhu\",5:\"SLN\",6:\"123\",7:1}\n",
        "print(dc2)\n",
        "print(type(dc2))"
      ],
      "metadata": {
        "colab": {
          "base_uri": "https://localhost:8080/"
        },
        "id": "OaPz4On74LdR",
        "outputId": "79f50df7-ab8a-431e-cced-a706ddd550d6"
      },
      "execution_count": 89,
      "outputs": [
        {
          "output_type": "stream",
          "name": "stdout",
          "text": [
            "{1: 'vignesh', 2: 'juju', 3: 'jaya'}\n",
            "<class 'dict'>\n",
            "{1: 'vignesh', 2: 'juju', 3: 'jaya', 4: 'bhu', 5: 'SLN', 6: '123', 7: 1}\n",
            "<class 'dict'>\n"
          ]
        }
      ]
    },
    {
      "cell_type": "code",
      "source": [
        "dic={\"name\":\"vicky\",\"age\":23,\"country\":\"Ind\",1:9566200}\n",
        "print(type(dic))\n",
        "print(len(dic))\n",
        "print(dic[\"name\"])\n",
        "print(dic[\"age\"])\n",
        "print(dic[1])\n",
        "print(dic[1])\n",
        "#dic.append(\"sex\":\"m\")"
      ],
      "metadata": {
        "colab": {
          "base_uri": "https://localhost:8080/"
        },
        "id": "c9yjFz0L4Lfs",
        "outputId": "853e9c9c-461c-4442-f2d9-e5b65f1a33c4"
      },
      "execution_count": 103,
      "outputs": [
        {
          "output_type": "stream",
          "name": "stdout",
          "text": [
            "<class 'dict'>\n",
            "4\n",
            "vicky\n",
            "23\n",
            "9566200\n",
            "9566200\n"
          ]
        }
      ]
    },
    {
      "cell_type": "code",
      "source": [
        "dic={\"name\":\"vicky\",\"age\":23,\"country\":\"Ind\",\"name\":\"vicky\",\"age\":23,\"country\":\"Ind\"}\n",
        "print(dic)"
      ],
      "metadata": {
        "colab": {
          "base_uri": "https://localhost:8080/"
        },
        "id": "nr5VNRLU4Lh-",
        "outputId": "4a1715bd-b865-40e6-ca9b-c20f3f7df573"
      },
      "execution_count": 105,
      "outputs": [
        {
          "output_type": "stream",
          "name": "stdout",
          "text": [
            "{'name': 'vicky', 'age': 23, 'country': 'Ind'}\n"
          ]
        }
      ]
    },
    {
      "cell_type": "markdown",
      "source": [
        "**OPERATORS**"
      ],
      "metadata": {
        "id": "tptCqGBlOinf"
      }
    },
    {
      "cell_type": "code",
      "source": [
        "#arthmetic operator\n",
        "num1=20\n",
        "num2=10\n",
        "num3=num1+num2 #add\n",
        "print(\"sum=\",num3)\n",
        "num3=num1-num2 #sub\n",
        "print(\"diff=\",num3)\n",
        "num3=num1*num2 #multiply\n",
        "print(\"mul=\",num3)\n",
        "num3=num1/num2 #divison-gives qoutient\n",
        "print(\"div=\",num3)\n",
        "num3=num1**num2 #exponent 20^10\n",
        "print(\"exp=\",num3)\n",
        "num3=num1%num2 #modulo-gives remainder\n",
        "print(\"mod=\",num3)\n"
      ],
      "metadata": {
        "colab": {
          "base_uri": "https://localhost:8080/"
        },
        "id": "7NwnUAYmOiLW",
        "outputId": "7ad20812-3453-4514-bc46-948a3479570f"
      },
      "execution_count": 116,
      "outputs": [
        {
          "output_type": "stream",
          "name": "stdout",
          "text": [
            "sum= 30\n",
            "diff= 10\n",
            "mul= 200\n",
            "div= 2.0\n",
            "exp= 10240000000000\n",
            "mod= 0\n"
          ]
        }
      ]
    },
    {
      "cell_type": "code",
      "source": [
        "#assignment operators\n",
        "a=5\n",
        "print(a)"
      ],
      "metadata": {
        "colab": {
          "base_uri": "https://localhost:8080/"
        },
        "id": "4srSSD1A4Lkk",
        "outputId": "5a5a7e50-6c95-46f5-d718-9512b3f0a06c"
      },
      "execution_count": 117,
      "outputs": [
        {
          "output_type": "stream",
          "name": "stdout",
          "text": [
            "5\n"
          ]
        }
      ]
    },
    {
      "cell_type": "code",
      "source": [
        "a=5\n",
        "a+=5   # equivalent of writing a=a+5\n",
        "print(a)"
      ],
      "metadata": {
        "colab": {
          "base_uri": "https://localhost:8080/"
        },
        "id": "muDZBh2p4Lm-",
        "outputId": "52ba6c2e-a629-4dc0-8882-6ffd9f7ec84a"
      },
      "execution_count": 118,
      "outputs": [
        {
          "output_type": "stream",
          "name": "stdout",
          "text": [
            "10\n"
          ]
        }
      ]
    },
    {
      "cell_type": "code",
      "source": [
        "b=10\n",
        "b-=2 #b=b-2\n",
        "print(b)"
      ],
      "metadata": {
        "colab": {
          "base_uri": "https://localhost:8080/"
        },
        "id": "ylxr4fBw4Lpx",
        "outputId": "d6eeda7c-e9f2-4ee4-9a1b-9409a6a80c3b"
      },
      "execution_count": 119,
      "outputs": [
        {
          "output_type": "stream",
          "name": "stdout",
          "text": [
            "8\n"
          ]
        }
      ]
    },
    {
      "cell_type": "code",
      "source": [
        "#COMPARISON OPERATORS #gives boolean values\n",
        "\n",
        "a=5\n",
        "b=10\n",
        "\n",
        "print(a==b)\n",
        "print(a!=b)\n",
        "print(a>b)\n",
        "print(a<b)\n",
        "print(a>=b)\n",
        "print(a<=b)"
      ],
      "metadata": {
        "colab": {
          "base_uri": "https://localhost:8080/"
        },
        "id": "g3rCZSVA4LsV",
        "outputId": "520d7c93-4a97-42c8-e417-b97aacdd35ee"
      },
      "execution_count": 124,
      "outputs": [
        {
          "output_type": "stream",
          "name": "stdout",
          "text": [
            "False\n",
            "True\n",
            "False\n",
            "True\n",
            "False\n",
            "True\n"
          ]
        }
      ]
    },
    {
      "cell_type": "code",
      "source": [
        "#Logical operators\n",
        "\n",
        "a=10\n",
        "print(a>20 and a<5)\n",
        "print(a>20 or a>5)\n",
        "print(not(a>20 or a>5))"
      ],
      "metadata": {
        "colab": {
          "base_uri": "https://localhost:8080/"
        },
        "id": "7crbYNQ24Lut",
        "outputId": "b3bcd116-b80c-403f-93c8-cb4ecd3f4a9a"
      },
      "execution_count": 129,
      "outputs": [
        {
          "output_type": "stream",
          "name": "stdout",
          "text": [
            "False\n",
            "True\n",
            "False\n"
          ]
        }
      ]
    },
    {
      "cell_type": "code",
      "source": [
        "#identity operator\n",
        "\n",
        "x=5\n",
        "y=5\n",
        "print(x is y)\n"
      ],
      "metadata": {
        "colab": {
          "base_uri": "https://localhost:8080/"
        },
        "id": "Ig0cFhI64LxU",
        "outputId": "33b71f61-2e87-413c-9f1c-12820e4065a3"
      },
      "execution_count": 130,
      "outputs": [
        {
          "output_type": "stream",
          "name": "stdout",
          "text": [
            "True\n"
          ]
        }
      ]
    },
    {
      "cell_type": "code",
      "source": [
        "x=5\n",
        "y=10\n",
        "print(x is y)"
      ],
      "metadata": {
        "colab": {
          "base_uri": "https://localhost:8080/"
        },
        "id": "FinUpfcf4L15",
        "outputId": "34a5ef17-9d60-46da-e52f-9286d1548f78"
      },
      "execution_count": 131,
      "outputs": [
        {
          "output_type": "stream",
          "name": "stdout",
          "text": [
            "False\n"
          ]
        }
      ]
    },
    {
      "cell_type": "code",
      "source": [
        "x=5\n",
        "y=5\n",
        "print(x is not y)\n",
        "#x is same as y and converts"
      ],
      "metadata": {
        "colab": {
          "base_uri": "https://localhost:8080/"
        },
        "id": "-ULsylIH4L42",
        "outputId": "9c2828d4-7111-45d4-c4ef-6d86578d9cde"
      },
      "execution_count": 133,
      "outputs": [
        {
          "output_type": "stream",
          "name": "stdout",
          "text": [
            "False\n"
          ]
        }
      ]
    },
    {
      "cell_type": "code",
      "source": [
        "#membership operator\n",
        "#in #notin\n",
        "\n",
        "a=5\n",
        "b=10\n",
        "c=[1,2,3,4,5]\n",
        "print(a in c)\n",
        "print(b in c)"
      ],
      "metadata": {
        "colab": {
          "base_uri": "https://localhost:8080/"
        },
        "id": "-WWa-iuZ4L7K",
        "outputId": "f0430ad2-0553-4656-effb-876c4d8f5ca0"
      },
      "execution_count": 134,
      "outputs": [
        {
          "output_type": "stream",
          "name": "stdout",
          "text": [
            "True\n",
            "False\n"
          ]
        }
      ]
    },
    {
      "cell_type": "code",
      "source": [
        "a=5\n",
        "b=10\n",
        "c=[1,2,3,4,5]\n",
        "print(a not in c)\n",
        "print(b not in c)"
      ],
      "metadata": {
        "colab": {
          "base_uri": "https://localhost:8080/"
        },
        "id": "GW06Tqj64L9y",
        "outputId": "13e15e4a-6187-4df6-9198-21e7dd49639c"
      },
      "execution_count": 135,
      "outputs": [
        {
          "output_type": "stream",
          "name": "stdout",
          "text": [
            "False\n",
            "True\n"
          ]
        }
      ]
    },
    {
      "cell_type": "markdown",
      "source": [
        "**IF STATEMENT**"
      ],
      "metadata": {
        "id": "Z9E5cVVLTSx-"
      }
    },
    {
      "cell_type": "code",
      "source": [
        "a=30\n",
        "b=50\n",
        "if a>b:\n",
        "  print(\"a is greatest\")\n",
        "else:\n",
        "  print(\"b is great\")"
      ],
      "metadata": {
        "colab": {
          "base_uri": "https://localhost:8080/"
        },
        "id": "jbZY8nDCTMsl",
        "outputId": "c7200f51-a5c3-4abf-9974-b938aefffe93"
      },
      "execution_count": 136,
      "outputs": [
        {
          "output_type": "stream",
          "name": "stdout",
          "text": [
            "b is great\n"
          ]
        }
      ]
    },
    {
      "cell_type": "code",
      "source": [
        "a=int(input(\"enter first no \"))\n",
        "b=int(input(\"enter second no \"))\n",
        "if a>b:\n",
        "  print(\"a is greatest\")\n",
        "else:\n",
        "  print(\"b is great\")"
      ],
      "metadata": {
        "colab": {
          "base_uri": "https://localhost:8080/"
        },
        "id": "Tj_pbRgVTMoi",
        "outputId": "ebdd5ce9-652b-41db-d3f6-474352caf734"
      },
      "execution_count": 138,
      "outputs": [
        {
          "output_type": "stream",
          "name": "stdout",
          "text": [
            "enter first no 100\n",
            "enter second no 200\n",
            "b is great\n"
          ]
        }
      ]
    },
    {
      "cell_type": "code",
      "source": [
        "a=int(input(\"enter first no \"))\n",
        "b=int(input(\"enter second no \"))\n",
        "if a>b:\n",
        "  print(\"a is greatest\")\n",
        "else:\n",
        "  print(\"b is great\")"
      ],
      "metadata": {
        "colab": {
          "base_uri": "https://localhost:8080/"
        },
        "id": "xDtYTdxyTMmb",
        "outputId": "980b1a87-6e9a-4305-8799-05993f3e5d31"
      },
      "execution_count": 139,
      "outputs": [
        {
          "output_type": "stream",
          "name": "stdout",
          "text": [
            "enter first no 100\n",
            "enter second no 100\n",
            "b is great\n"
          ]
        }
      ]
    },
    {
      "cell_type": "code",
      "source": [
        "a=int(input(\"enter first no \"))\n",
        "b=int(input(\"enter second no \"))\n",
        "if a>b:\n",
        "  print(\"a is greatest\")\n",
        "elif b>a:\n",
        "  print(\"b is great\")\n",
        "else:\n",
        "  print(\"both are equal\")"
      ],
      "metadata": {
        "colab": {
          "base_uri": "https://localhost:8080/"
        },
        "id": "u0UdEaz4TMfD",
        "outputId": "e00c9165-eff9-475f-8478-30d3700f3ab6"
      },
      "execution_count": 141,
      "outputs": [
        {
          "output_type": "stream",
          "name": "stdout",
          "text": [
            "enter first no 100\n",
            "enter second no 100\n",
            "both are equal\n"
          ]
        }
      ]
    },
    {
      "cell_type": "code",
      "source": [
        "a=int(input(\"enter first no \"))\n",
        "b=int(input(\"enter second no \"))\n",
        "if a>b:\n",
        "  print(\"a is greatest\")\n",
        "elif b>a:\n",
        "  print(\"b is great\")\n",
        "else:\n",
        "  print(\"both are equal\")"
      ],
      "metadata": {
        "colab": {
          "base_uri": "https://localhost:8080/"
        },
        "id": "raLHFIedTMcp",
        "outputId": "1d47e130-0a3c-4b1c-9cf7-57227ff93cb0"
      },
      "execution_count": 142,
      "outputs": [
        {
          "output_type": "stream",
          "name": "stdout",
          "text": [
            "enter first no 500\n",
            "enter second no 200\n",
            "a is greatest\n"
          ]
        }
      ]
    },
    {
      "cell_type": "code",
      "source": [
        "a,b,c=10,20,30\n",
        "if a>(b and c):\n",
        "  print(\"a is big\")\n",
        "elif b>(a and c):\n",
        "  print(\"b is big\")\n",
        "else:\n",
        "  print(\"c is big\")"
      ],
      "metadata": {
        "colab": {
          "base_uri": "https://localhost:8080/"
        },
        "id": "TZrKOZTnTMaK",
        "outputId": "ed1e2aca-759e-444c-a43e-a72778ac08fa"
      },
      "execution_count": 144,
      "outputs": [
        {
          "output_type": "stream",
          "name": "stdout",
          "text": [
            "c is big\n"
          ]
        }
      ]
    },
    {
      "cell_type": "markdown",
      "source": [
        "**NESTED IF**"
      ],
      "metadata": {
        "id": "-H3sQfFRWFi2"
      }
    },
    {
      "cell_type": "code",
      "source": [
        "a,b,c=22,20,30\n",
        "if(a>b):\n",
        "  if(a>c):\n",
        "    print(\"a is great\")\n",
        "  else:\n",
        "    print(\"c is big\")\n",
        "else:\n",
        "  if(b>c):\n",
        "    print(\"b is great\")"
      ],
      "metadata": {
        "colab": {
          "base_uri": "https://localhost:8080/"
        },
        "id": "5dWs2ZWlTMWq",
        "outputId": "dce3faf6-6e46-4527-f9c3-126eb4d0b6bc"
      },
      "execution_count": 147,
      "outputs": [
        {
          "output_type": "stream",
          "name": "stdout",
          "text": [
            "c is big\n"
          ]
        }
      ]
    },
    {
      "cell_type": "code",
      "source": [
        "a,b,c=22,47,30\n",
        "if(a>b):\n",
        "  if(a>c):\n",
        "    print(\"a is great\")\n",
        "  else:\n",
        "    print(\"c is big\")\n",
        "else:\n",
        "  if(b>c):\n",
        "    print(\"b is great\")\n",
        "  else:\n",
        "    print(\"c is great\")"
      ],
      "metadata": {
        "colab": {
          "base_uri": "https://localhost:8080/"
        },
        "id": "YfPS0X-jTMUh",
        "outputId": "e9e5aea5-ffe3-4031-add7-6bd0ecef2ad4"
      },
      "execution_count": 149,
      "outputs": [
        {
          "output_type": "stream",
          "name": "stdout",
          "text": [
            "b is great\n"
          ]
        }
      ]
    },
    {
      "cell_type": "markdown",
      "source": [
        "**LOOPS**"
      ],
      "metadata": {
        "id": "4MDoT-6yXhWH"
      }
    },
    {
      "cell_type": "markdown",
      "source": [
        "**FOr LOOp -we have to mention how many times we need to run the code**"
      ],
      "metadata": {
        "id": "oyai94YqaZiu"
      }
    },
    {
      "cell_type": "code",
      "source": [
        "#enter price of five bats\n",
        "\n",
        "b1=int(input(\"enter price of bat \"))\n",
        "b2=int(input(\"enter price of bat \"))\n",
        "b3=int(input(\"enter price of bat \"))\n",
        "b4=int(input(\"enter price of bat \"))\n",
        "b5=int(input(\"enter price of bat 6\"))"
      ],
      "metadata": {
        "colab": {
          "base_uri": "https://localhost:8080/"
        },
        "id": "EcrxKh9gTMRZ",
        "outputId": "e848516b-6933-4aea-d5bb-848449bdee55"
      },
      "execution_count": 151,
      "outputs": [
        {
          "name": "stdout",
          "output_type": "stream",
          "text": [
            "enter price of bat 20\n",
            "enter price of bat 30\n",
            "enter price of bat 40\n",
            "enter price of bat 50\n",
            "enter price of bat 0\n"
          ]
        }
      ]
    },
    {
      "cell_type": "code",
      "source": [
        "for i in range(5):    #0,1,2,3,4\n",
        "  b1=int(input(\"enter price of bat \"))"
      ],
      "metadata": {
        "colab": {
          "base_uri": "https://localhost:8080/"
        },
        "id": "unYszxyRTMPS",
        "outputId": "6907894e-6eca-4653-9701-fcbbe193d6e8"
      },
      "execution_count": 152,
      "outputs": [
        {
          "name": "stdout",
          "output_type": "stream",
          "text": [
            "enter price of bat 10\n",
            "enter price of bat 20\n",
            "enter price of bat 30\n",
            "enter price of bat 40\n",
            "enter price of bat 50\n"
          ]
        }
      ]
    },
    {
      "cell_type": "code",
      "source": [
        "lis=[50,10,1,2,3,4]\n",
        "print(lis[0])\n",
        "print(lis[1])\n",
        "print(lis[2])\n",
        "print(lis[3])\n",
        "print(lis[4])\n",
        "print(lis[5])"
      ],
      "metadata": {
        "colab": {
          "base_uri": "https://localhost:8080/"
        },
        "id": "RzoiEjiUTMMo",
        "outputId": "f32dfdcd-9da8-4ada-952c-ed4649bda13c"
      },
      "execution_count": 153,
      "outputs": [
        {
          "output_type": "stream",
          "name": "stdout",
          "text": [
            "50\n",
            "10\n",
            "1\n",
            "2\n",
            "3\n",
            "4\n"
          ]
        }
      ]
    },
    {
      "cell_type": "code",
      "source": [
        "lis=[50,10,1,2,3,4]\n",
        "for i in lis:\n",
        "  print(i)"
      ],
      "metadata": {
        "colab": {
          "base_uri": "https://localhost:8080/"
        },
        "id": "3dznQ0ItTMKa",
        "outputId": "cb14be01-7d27-4794-f3f1-fa67570526f0"
      },
      "execution_count": 154,
      "outputs": [
        {
          "output_type": "stream",
          "name": "stdout",
          "text": [
            "50\n",
            "10\n",
            "1\n",
            "2\n",
            "3\n",
            "4\n"
          ]
        }
      ]
    },
    {
      "cell_type": "markdown",
      "source": [
        "**WHile LOOP** - **we might not be sure how many times we need to run the code use while loop in that case**"
      ],
      "metadata": {
        "id": "QhMFOY9AaGF9"
      }
    },
    {
      "cell_type": "code",
      "source": [
        "#will run infinte times if you dont mention i+=1\n",
        "\n",
        "i=0\n",
        "while i<10:\n",
        "  print(i)\n",
        "  i+=1"
      ],
      "metadata": {
        "colab": {
          "base_uri": "https://localhost:8080/"
        },
        "id": "hGJF-Vq6TMHS",
        "outputId": "ba072ae4-d987-4bbd-803c-f54c14672850"
      },
      "execution_count": 156,
      "outputs": [
        {
          "output_type": "stream",
          "name": "stdout",
          "text": [
            "0\n",
            "1\n",
            "2\n",
            "3\n",
            "4\n",
            "5\n",
            "6\n",
            "7\n",
            "8\n",
            "9\n"
          ]
        }
      ]
    },
    {
      "cell_type": "code",
      "source": [
        "i=11         #nothing will happen as 11>10\n",
        "while i<10:\n",
        "  print(i)\n",
        "  i+=1"
      ],
      "metadata": {
        "id": "6mym1XvnTMFR"
      },
      "execution_count": 158,
      "outputs": []
    },
    {
      "cell_type": "markdown",
      "source": [
        "**FUNCTIONS** -**code can be reused**"
      ],
      "metadata": {
        "id": "m5M0w4Xdb0g0"
      }
    },
    {
      "cell_type": "code",
      "source": [
        "#factotrial of a number\n",
        "#fact of 5 =5*4*3*2*1=120"
      ],
      "metadata": {
        "id": "0m_VKX_nTL_q"
      },
      "execution_count": 159,
      "outputs": []
    },
    {
      "cell_type": "code",
      "source": [
        "num=int(input(\"enter a number \"))\n",
        "fact=1\n",
        "if num==0:\n",
        "  print(\"fact of 0 is\", 1)\n",
        "else:\n",
        "  for i in range(1,num+1): #range(1,6) includes 1 and excludes 6 i.e, 1,2,3,4,5\n",
        "    fact=fact*i\n",
        "  print(\"the fact of the\" ,num, \"is\",fact )  \n",
        "\n"
      ],
      "metadata": {
        "colab": {
          "base_uri": "https://localhost:8080/"
        },
        "id": "9fVjOJ8GTL8c",
        "outputId": "46c177ba-3548-446a-c9f4-583256958b63"
      },
      "execution_count": 171,
      "outputs": [
        {
          "output_type": "stream",
          "name": "stdout",
          "text": [
            "enter a number 5\n",
            "the fact of the 5 is 120\n"
          ]
        }
      ]
    },
    {
      "cell_type": "code",
      "source": [
        "def fac(num):\n",
        "  fact=1\n",
        "  if num==0:\n",
        "    return fact\n",
        "  else:\n",
        "    for i in range(1,num+1):\n",
        "      fact=fact*i\n",
        "    return fact"
      ],
      "metadata": {
        "id": "Mb617JXLTL5-"
      },
      "execution_count": 185,
      "outputs": []
    },
    {
      "cell_type": "code",
      "source": [
        "fac(5)"
      ],
      "metadata": {
        "colab": {
          "base_uri": "https://localhost:8080/"
        },
        "id": "DFc5b0TzTLud",
        "outputId": "0f60fabd-4595-4d18-c53b-943d0dce5f60"
      },
      "execution_count": 182,
      "outputs": [
        {
          "output_type": "execute_result",
          "data": {
            "text/plain": [
              "120"
            ]
          },
          "metadata": {},
          "execution_count": 182
        }
      ]
    },
    {
      "cell_type": "code",
      "source": [
        "fac(10)\n"
      ],
      "metadata": {
        "colab": {
          "base_uri": "https://localhost:8080/"
        },
        "id": "DrQINMoLTLtA",
        "outputId": "67983c20-9bac-4393-db32-afd492c1c332"
      },
      "execution_count": 183,
      "outputs": [
        {
          "output_type": "execute_result",
          "data": {
            "text/plain": [
              "3628800"
            ]
          },
          "metadata": {},
          "execution_count": 183
        }
      ]
    },
    {
      "cell_type": "code",
      "source": [
        "fac(0)"
      ],
      "metadata": {
        "colab": {
          "base_uri": "https://localhost:8080/"
        },
        "id": "3v8dEN75TLoN",
        "outputId": "994cf944-f6b7-4858-e9be-e713f2c4c4ff"
      },
      "execution_count": 186,
      "outputs": [
        {
          "output_type": "execute_result",
          "data": {
            "text/plain": [
              "1"
            ]
          },
          "metadata": {},
          "execution_count": 186
        }
      ]
    },
    {
      "cell_type": "markdown",
      "source": [
        "**if __name__ == \"__main__\":**\n"
      ],
      "metadata": {
        "id": "2sLhNFFSxAyd"
      }
    },
    {
      "cell_type": "code",
      "source": [
        "def cal(b,h):\n",
        "  area=0.5*b*h\n",
        "  return area\n",
        "if __name__== \"__main__\":     #acts as entry point like void main  __name__==__main__ if in same file\n",
        "  a=cal(5,10)                 #else __name__ ==the file it calls from\n",
        "  print(\"area is \",a)\n",
        "\n",
        "\n"
      ],
      "metadata": {
        "id": "7B2yl712xAeo",
        "outputId": "c106fa24-e82a-48f3-a220-6c9d38254068",
        "colab": {
          "base_uri": "https://localhost:8080/"
        }
      },
      "execution_count": 195,
      "outputs": [
        {
          "output_type": "stream",
          "name": "stdout",
          "text": [
            "area is  25.0\n"
          ]
        }
      ]
    },
    {
      "cell_type": "code",
      "source": [],
      "metadata": {
        "id": "MrLCd0wvxAM-"
      },
      "execution_count": null,
      "outputs": []
    },
    {
      "cell_type": "markdown",
      "source": [
        "**Classes**\n",
        "\n",
        "HUMAN-name, gender, occupation  (properties)\n",
        "\n",
        "ACTIVITY-speak,work,sleep  (methods)\n",
        "\n",
        "CLASS= Properties+methods\n",
        "\n",
        "ObJECTS: Specific instance of a class\n",
        "\n",
        "Eg Class-Human\n",
        "\n",
        "  properties-vignesh,Male,player\n",
        "  \n",
        "  methods-tamil,IT\n",
        "\n",
        "**varibles+function= object**\n",
        "\n",
        "Objects are an encapsulation of variables and functions into a single entity\n",
        "Objects get their variables and functions from classes. Classes are essentially a template to create your objects.\n"
      ],
      "metadata": {
        "id": "yf_2yE4_ouec"
      }
    },
    {
      "cell_type": "code",
      "source": [
        "class human:\n",
        "  def__init__(self,n,o):                      #special function initialise the property of particular class\n",
        "    self.name=n\n",
        "    self.occu=g\n",
        "  def work(self):\n",
        "    if self.occu==\"cricket\":\n",
        "      print(self)\n"
      ],
      "metadata": {
        "id": "j8OavOoATLj1"
      },
      "execution_count": 187,
      "outputs": []
    },
    {
      "cell_type": "code",
      "source": [],
      "metadata": {
        "id": "JJTDvRECTLhG"
      },
      "execution_count": null,
      "outputs": []
    },
    {
      "cell_type": "code",
      "source": [],
      "metadata": {
        "id": "4jcwmnOyTLet"
      },
      "execution_count": null,
      "outputs": []
    },
    {
      "cell_type": "code",
      "source": [],
      "metadata": {
        "id": "QRMKvN0qTLcY"
      },
      "execution_count": null,
      "outputs": []
    },
    {
      "cell_type": "code",
      "source": [],
      "metadata": {
        "id": "v3n2TwF_TLaA"
      },
      "execution_count": null,
      "outputs": []
    },
    {
      "cell_type": "code",
      "source": [],
      "metadata": {
        "id": "stAuE_9PTLX3"
      },
      "execution_count": null,
      "outputs": []
    },
    {
      "cell_type": "code",
      "source": [],
      "metadata": {
        "id": "BivJ5GVVTLVA"
      },
      "execution_count": null,
      "outputs": []
    },
    {
      "cell_type": "code",
      "source": [],
      "metadata": {
        "id": "VW25VTgeTLQO"
      },
      "execution_count": null,
      "outputs": []
    },
    {
      "cell_type": "code",
      "source": [],
      "metadata": {
        "id": "DcdYuasHTLAZ"
      },
      "execution_count": null,
      "outputs": []
    }
  ]
}