{
  "nbformat": 4,
  "nbformat_minor": 0,
  "metadata": {
    "colab": {
      "provenance": [],
      "authorship_tag": "ABX9TyOJxf6MhxxmqGxp6FE18Iyo",
      "include_colab_link": true
    },
    "kernelspec": {
      "name": "python3",
      "display_name": "Python 3"
    },
    "language_info": {
      "name": "python"
    }
  },
  "cells": [
    {
      "cell_type": "markdown",
      "metadata": {
        "id": "view-in-github",
        "colab_type": "text"
      },
      "source": [
        "<a href=\"https://colab.research.google.com/github/vigneshlakshh/vigneshlakshh/blob/main/Numpy.ipynb\" target=\"_parent\"><img src=\"https://colab.research.google.com/assets/colab-badge.svg\" alt=\"Open In Colab\"/></a>"
      ]
    },
    {
      "cell_type": "code",
      "execution_count": 5,
      "metadata": {
        "id": "sC1HLzV1w7U3"
      },
      "outputs": [],
      "source": [
        "import numpy as np"
      ]
    },
    {
      "cell_type": "code",
      "source": [
        "from time import process_time"
      ],
      "metadata": {
        "id": "2KqAdO0wzRZO"
      },
      "execution_count": 6,
      "outputs": []
    },
    {
      "cell_type": "markdown",
      "source": [
        "Time Taken for a LIST"
      ],
      "metadata": {
        "id": "spMk-Hhu4i_S"
      }
    },
    {
      "cell_type": "code",
      "source": [
        "lis=[i for i in range(10000)]\n",
        "start = process_time()\n",
        "lisadd=[ i+5 for i in lis]\n",
        "stop=process_time()\n",
        "print(start)\n",
        "print(stop)\n",
        "print(stop-start)"
      ],
      "metadata": {
        "colab": {
          "base_uri": "https://localhost:8080/"
        },
        "id": "F5mB3dKNzRjt",
        "outputId": "62ee97a0-08b6-4f69-b066-9d99f48f25da"
      },
      "execution_count": 10,
      "outputs": [
        {
          "output_type": "stream",
          "name": "stdout",
          "text": [
            "9.648362283\n",
            "9.649657316\n",
            "0.00129503299999989\n"
          ]
        }
      ]
    },
    {
      "cell_type": "markdown",
      "source": [
        "Time Taken for a Numpy"
      ],
      "metadata": {
        "id": "F9cmB5xn610f"
      }
    },
    {
      "cell_type": "code",
      "source": [
        "np_array=np.array([i for i in range(10000)])\n",
        "start = process_time()\n",
        "np_array += 5\n",
        "stop=process_time()\n",
        "print(start)\n",
        "print(stop)\n",
        "print(stop-start)\n"
      ],
      "metadata": {
        "colab": {
          "base_uri": "https://localhost:8080/"
        },
        "id": "w_TYtmtmzRma",
        "outputId": "5f9e8b48-8f38-4d00-bddf-8c6de8048975"
      },
      "execution_count": 17,
      "outputs": [
        {
          "output_type": "stream",
          "name": "stdout",
          "text": [
            "12.039057741\n",
            "12.040006603\n",
            "0.0009488619999995507\n"
          ]
        }
      ]
    },
    {
      "cell_type": "code",
      "source": [
        "lis1=[1,2,3,4,5]\n",
        "print(lis1)      #values are separted by, in o/P \n",
        "type(lis1)         "
      ],
      "metadata": {
        "colab": {
          "base_uri": "https://localhost:8080/"
        },
        "id": "g_vESJKL7u-7",
        "outputId": "ae1918b9-167a-460e-8ee7-4c7208704646"
      },
      "execution_count": 20,
      "outputs": [
        {
          "output_type": "stream",
          "name": "stdout",
          "text": [
            "[1, 2, 3, 4, 5]\n"
          ]
        },
        {
          "output_type": "execute_result",
          "data": {
            "text/plain": [
              "list"
            ]
          },
          "metadata": {},
          "execution_count": 20
        }
      ]
    },
    {
      "cell_type": "code",
      "source": [
        "np_array=np.array([1,2,3,4,5])\n",
        "print(np_array)    #values are not separted by, in o/P \n",
        "type(np_array)      #ndarry are n-dim array similar to matrix"
      ],
      "metadata": {
        "colab": {
          "base_uri": "https://localhost:8080/"
        },
        "id": "g82uBQ52zRrT",
        "outputId": "dd31a3c1-6763-4cd0-eccf-e395d1a66a5a"
      },
      "execution_count": 19,
      "outputs": [
        {
          "output_type": "stream",
          "name": "stdout",
          "text": [
            "[1 2 3 4 5]\n"
          ]
        },
        {
          "output_type": "execute_result",
          "data": {
            "text/plain": [
              "numpy.ndarray"
            ]
          },
          "metadata": {},
          "execution_count": 19
        }
      ]
    },
    {
      "cell_type": "markdown",
      "source": [
        "1D Array"
      ],
      "metadata": {
        "id": "o9ninQ9z9EIx"
      }
    },
    {
      "cell_type": "code",
      "source": [
        "#1d array\n",
        "a=np.array([1,2,3,4])"
      ],
      "metadata": {
        "id": "C5w7e8x_zRuB"
      },
      "execution_count": 24,
      "outputs": []
    },
    {
      "cell_type": "code",
      "source": [
        "type(a)"
      ],
      "metadata": {
        "colab": {
          "base_uri": "https://localhost:8080/"
        },
        "id": "Fxbzze2OzRyV",
        "outputId": "ed5ff900-e5e5-49f5-ffd3-389940f39347"
      },
      "execution_count": 25,
      "outputs": [
        {
          "output_type": "execute_result",
          "data": {
            "text/plain": [
              "numpy.ndarray"
            ]
          },
          "metadata": {},
          "execution_count": 25
        }
      ]
    },
    {
      "cell_type": "code",
      "source": [
        "a.shape"
      ],
      "metadata": {
        "colab": {
          "base_uri": "https://localhost:8080/"
        },
        "id": "833XZZa-849_",
        "outputId": "9286173f-b7c2-4cd6-d936-0e4955a7196e"
      },
      "execution_count": 26,
      "outputs": [
        {
          "output_type": "execute_result",
          "data": {
            "text/plain": [
              "(4,)"
            ]
          },
          "metadata": {},
          "execution_count": 26
        }
      ]
    },
    {
      "cell_type": "markdown",
      "source": [
        "2D array"
      ],
      "metadata": {
        "id": "N1XO-9Fm9H2o"
      }
    },
    {
      "cell_type": "code",
      "source": [
        "b=np.array([(1,2,3,4),(5,6,7,8)])\n",
        "print(b)"
      ],
      "metadata": {
        "colab": {
          "base_uri": "https://localhost:8080/"
        },
        "id": "w2XBhrau9HiJ",
        "outputId": "2ff033af-58e8-48a6-e828-f69d04b2656a"
      },
      "execution_count": 28,
      "outputs": [
        {
          "output_type": "stream",
          "name": "stdout",
          "text": [
            "[[1 2 3 4]\n",
            " [5 6 7 8]]\n"
          ]
        }
      ]
    },
    {
      "cell_type": "code",
      "source": [
        "type(b)"
      ],
      "metadata": {
        "colab": {
          "base_uri": "https://localhost:8080/"
        },
        "id": "b_q-zsju9oOM",
        "outputId": "6968410a-b8a4-4be1-fc35-73af52009bc6"
      },
      "execution_count": 31,
      "outputs": [
        {
          "output_type": "execute_result",
          "data": {
            "text/plain": [
              "numpy.ndarray"
            ]
          },
          "metadata": {},
          "execution_count": 31
        }
      ]
    },
    {
      "cell_type": "code",
      "source": [
        "b.shape"
      ],
      "metadata": {
        "colab": {
          "base_uri": "https://localhost:8080/"
        },
        "id": "dLAxJBuW847f",
        "outputId": "6246263f-6f05-4d30-94d9-e8eef1a78ba6"
      },
      "execution_count": 29,
      "outputs": [
        {
          "output_type": "execute_result",
          "data": {
            "text/plain": [
              "(2, 4)"
            ]
          },
          "metadata": {},
          "execution_count": 29
        }
      ]
    },
    {
      "cell_type": "markdown",
      "source": [
        "Floating Points array"
      ],
      "metadata": {
        "id": "FWlMl_LI9xYU"
      }
    },
    {
      "cell_type": "code",
      "source": [
        "c=np.array([(1,2,3,4),(5,6,7,8)],dtype=float)\n",
        "print(c)\n",
        "print(type(c))"
      ],
      "metadata": {
        "colab": {
          "base_uri": "https://localhost:8080/"
        },
        "id": "jddVxedz845N",
        "outputId": "4ecd26c4-4c90-4854-f81c-ccbb6a562476"
      },
      "execution_count": 33,
      "outputs": [
        {
          "output_type": "stream",
          "name": "stdout",
          "text": [
            "[[1. 2. 3. 4.]\n",
            " [5. 6. 7. 8.]]\n",
            "<class 'numpy.ndarray'>\n"
          ]
        }
      ]
    },
    {
      "cell_type": "markdown",
      "source": [
        "Initaial Placeholders in numpy (0's,1's)"
      ],
      "metadata": {
        "id": "unIeVEyo-R99"
      }
    },
    {
      "cell_type": "markdown",
      "source": [
        "ZEROS"
      ],
      "metadata": {
        "id": "sxb7WgKm-z6f"
      }
    },
    {
      "cell_type": "code",
      "source": [
        "x=np.zeros((4,5))   #shape of array you want  (rows and columns)\n",
        "print(x)"
      ],
      "metadata": {
        "colab": {
          "base_uri": "https://localhost:8080/"
        },
        "id": "Z90AUAhL842t",
        "outputId": "9f878098-241d-41bb-89e1-e6bc11446923"
      },
      "execution_count": 34,
      "outputs": [
        {
          "output_type": "stream",
          "name": "stdout",
          "text": [
            "[[0. 0. 0. 0. 0.]\n",
            " [0. 0. 0. 0. 0.]\n",
            " [0. 0. 0. 0. 0.]\n",
            " [0. 0. 0. 0. 0.]]\n"
          ]
        }
      ]
    },
    {
      "cell_type": "markdown",
      "source": [
        "ONES"
      ],
      "metadata": {
        "id": "koDiM-WW-1j_"
      }
    },
    {
      "cell_type": "code",
      "source": [
        "y=np.ones((3,3))\n",
        "print(y)"
      ],
      "metadata": {
        "colab": {
          "base_uri": "https://localhost:8080/"
        },
        "id": "YmDj1gbU84z-",
        "outputId": "8ac03a20-be7e-41b3-c865-7a89cf3a8b34"
      },
      "execution_count": 35,
      "outputs": [
        {
          "output_type": "stream",
          "name": "stdout",
          "text": [
            "[[1. 1. 1.]\n",
            " [1. 1. 1.]\n",
            " [1. 1. 1.]]\n"
          ]
        }
      ]
    },
    {
      "cell_type": "markdown",
      "source": [
        "PARTICULAR VALUE"
      ],
      "metadata": {
        "id": "0LDcXR5J-3Tt"
      }
    },
    {
      "cell_type": "code",
      "source": [
        "z=np.full((5,4),5)    #mention (rows and columns), then the value you want\n",
        "print(z)"
      ],
      "metadata": {
        "colab": {
          "base_uri": "https://localhost:8080/"
        },
        "id": "gI8w9wKg84xd",
        "outputId": "9dbc6315-47fb-4454-82cd-aa2c86ddeda6"
      },
      "execution_count": 36,
      "outputs": [
        {
          "output_type": "stream",
          "name": "stdout",
          "text": [
            "[[5 5 5 5]\n",
            " [5 5 5 5]\n",
            " [5 5 5 5]\n",
            " [5 5 5 5]\n",
            " [5 5 5 5]]\n"
          ]
        }
      ]
    },
    {
      "cell_type": "markdown",
      "source": [
        "Create Identity matrix \n",
        "diag --1's\n",
        "rest--0's\n",
        "Rows and columns must be equal"
      ],
      "metadata": {
        "id": "xmVyYpyl_RFc"
      }
    },
    {
      "cell_type": "code",
      "source": [
        "a=np.eye(4) \n",
        "print(a) #CREATE 4*4"
      ],
      "metadata": {
        "colab": {
          "base_uri": "https://localhost:8080/"
        },
        "id": "uLs70lzr84vC",
        "outputId": "09d1a428-5a32-484c-9ae1-1947b2d7656a"
      },
      "execution_count": 37,
      "outputs": [
        {
          "output_type": "stream",
          "name": "stdout",
          "text": [
            "[[1. 0. 0. 0.]\n",
            " [0. 1. 0. 0.]\n",
            " [0. 0. 1. 0.]\n",
            " [0. 0. 0. 1.]]\n"
          ]
        }
      ]
    },
    {
      "cell_type": "code",
      "source": [
        "a=np.eye(3) \n",
        "print(a) #CREATE 3*3"
      ],
      "metadata": {
        "colab": {
          "base_uri": "https://localhost:8080/"
        },
        "id": "oL4_OQ8W84sN",
        "outputId": "ac9415b0-19d5-448e-bb74-094bba0130fa"
      },
      "execution_count": 38,
      "outputs": [
        {
          "output_type": "stream",
          "name": "stdout",
          "text": [
            "[[1. 0. 0.]\n",
            " [0. 1. 0.]\n",
            " [0. 0. 1.]]\n"
          ]
        }
      ]
    },
    {
      "cell_type": "markdown",
      "source": [
        "Random Values"
      ],
      "metadata": {
        "id": "YcGluvmM_093"
      }
    },
    {
      "cell_type": "markdown",
      "source": [
        "creates a random array everytime (default it will return a float and (0-1))"
      ],
      "metadata": {
        "id": "5xyz9os9AHfT"
      }
    },
    {
      "cell_type": "code",
      "source": [
        "b=np.random.random((3,4))\n",
        "print(b)"
      ],
      "metadata": {
        "colab": {
          "base_uri": "https://localhost:8080/"
        },
        "id": "eTh9LmQR_0hq",
        "outputId": "cda2afca-19d6-48d1-8f36-a71bbbfda4c1"
      },
      "execution_count": 39,
      "outputs": [
        {
          "output_type": "stream",
          "name": "stdout",
          "text": [
            "[[0.32650028 0.90558848 0.1526314  0.02368534]\n",
            " [0.02850154 0.3922674  0.68609323 0.13659025]\n",
            " [0.87216213 0.03704622 0.50838283 0.85891488]]\n"
          ]
        }
      ]
    },
    {
      "cell_type": "markdown",
      "source": [
        "Random INT Array with specific range "
      ],
      "metadata": {
        "id": "8FqaKrLoAXXu"
      }
    },
    {
      "cell_type": "code",
      "source": [
        "c=np.random.randint(10,100,(3,5)) #any value btwn 10-100 (3*5)matrix\n",
        "print(c)"
      ],
      "metadata": {
        "colab": {
          "base_uri": "https://localhost:8080/"
        },
        "id": "nKSncy1S84ma",
        "outputId": "245f6107-e654-4f2a-c369-115282fec6cb"
      },
      "execution_count": 44,
      "outputs": [
        {
          "output_type": "stream",
          "name": "stdout",
          "text": [
            "[[63 72 12 21 36]\n",
            " [39 87 36 96 35]\n",
            " [22 38 52 25 17]]\n"
          ]
        }
      ]
    },
    {
      "cell_type": "markdown",
      "source": [
        "Even spaced value"
      ],
      "metadata": {
        "id": "o3zoHzINA9SM"
      }
    },
    {
      "cell_type": "code",
      "source": [
        "d=np.linspace(10,30,6)    #val btwn 10,30  want 6 values\n",
        "print(d)"
      ],
      "metadata": {
        "colab": {
          "base_uri": "https://localhost:8080/"
        },
        "id": "6HGKVU8g84ic",
        "outputId": "f8e78e0a-bae0-49e4-ff87-cee874fcf249"
      },
      "execution_count": 47,
      "outputs": [
        {
          "output_type": "stream",
          "name": "stdout",
          "text": [
            "[10. 14. 18. 22. 26. 30.]\n"
          ]
        }
      ]
    },
    {
      "cell_type": "markdown",
      "source": [
        "Even spaced value with step "
      ],
      "metadata": {
        "id": "fKaaH99sBhiK"
      }
    },
    {
      "cell_type": "code",
      "source": [
        "e=np.arange(10,30,5) #val btwn 10,30  stepby(or)inc by 6 values\n",
        "print(e)"
      ],
      "metadata": {
        "colab": {
          "base_uri": "https://localhost:8080/"
        },
        "id": "6N2rzGpABhE6",
        "outputId": "526c1c8a-89a4-4aa4-fe37-35d828465b33"
      },
      "execution_count": 48,
      "outputs": [
        {
          "output_type": "stream",
          "name": "stdout",
          "text": [
            "[10 15 20 25]\n"
          ]
        }
      ]
    },
    {
      "cell_type": "markdown",
      "source": [
        "CONVERT LIST TO NUMPY ARRAY"
      ],
      "metadata": {
        "id": "HSKkUn7oB7Va"
      }
    },
    {
      "cell_type": "code",
      "source": [
        "lis2=[10,20,30,40,50]\n",
        "print(lis2)\n",
        "print(type(lis2))\n",
        "\n",
        "np_array=np.asarray(lis2)\n",
        "print(np_array)\n",
        "print(type(np_array))"
      ],
      "metadata": {
        "colab": {
          "base_uri": "https://localhost:8080/"
        },
        "id": "_Jravo2VA5Zo",
        "outputId": "629feefb-820b-4d50-f9ef-f01561a19378"
      },
      "execution_count": 51,
      "outputs": [
        {
          "output_type": "stream",
          "name": "stdout",
          "text": [
            "[10, 20, 30, 40, 50]\n",
            "<class 'list'>\n",
            "[10 20 30 40 50]\n",
            "<class 'numpy.ndarray'>\n"
          ]
        }
      ]
    },
    {
      "cell_type": "markdown",
      "source": [
        "ANALYSE A NUMPY ARRAY"
      ],
      "metadata": {
        "id": "_rwKn9SHCd4R"
      }
    },
    {
      "cell_type": "code",
      "source": [
        "c=np.random.randint(10,90,(5,5))\n",
        "print(c)"
      ],
      "metadata": {
        "colab": {
          "base_uri": "https://localhost:8080/"
        },
        "id": "4WA7iRGsA5Wy",
        "outputId": "0c2210cd-c82c-468d-d393-6685413758f5"
      },
      "execution_count": 54,
      "outputs": [
        {
          "output_type": "stream",
          "name": "stdout",
          "text": [
            "[[58 81 18 86 41]\n",
            " [22 80 71 30 75]\n",
            " [45 53 29 35 54]\n",
            " [71 31 78 35 10]\n",
            " [27 62 59 88 28]]\n"
          ]
        }
      ]
    },
    {
      "cell_type": "code",
      "source": [
        "c.shape  # (shapes of matrix)"
      ],
      "metadata": {
        "colab": {
          "base_uri": "https://localhost:8080/"
        },
        "id": "WZpXlvFzA5Uq",
        "outputId": "e2bbf0ae-7c93-4591-bd80-ce4286345854"
      },
      "execution_count": 55,
      "outputs": [
        {
          "output_type": "execute_result",
          "data": {
            "text/plain": [
              "(5, 5)"
            ]
          },
          "metadata": {},
          "execution_count": 55
        }
      ]
    },
    {
      "cell_type": "code",
      "source": [
        "c.ndim  #no of dimensions"
      ],
      "metadata": {
        "colab": {
          "base_uri": "https://localhost:8080/"
        },
        "id": "Nhgp7n3GA5Rw",
        "outputId": "5713c1dc-abf8-43ad-fb8b-3c54f66dd640"
      },
      "execution_count": 56,
      "outputs": [
        {
          "output_type": "execute_result",
          "data": {
            "text/plain": [
              "2"
            ]
          },
          "metadata": {},
          "execution_count": 56
        }
      ]
    },
    {
      "cell_type": "code",
      "source": [
        "c.size  #no of elements in array"
      ],
      "metadata": {
        "colab": {
          "base_uri": "https://localhost:8080/"
        },
        "id": "MM4r7vY7A5Ml",
        "outputId": "df18b3f5-cbb9-44e7-eccb-bfae23715e86"
      },
      "execution_count": 57,
      "outputs": [
        {
          "output_type": "execute_result",
          "data": {
            "text/plain": [
              "25"
            ]
          },
          "metadata": {},
          "execution_count": 57
        }
      ]
    },
    {
      "cell_type": "code",
      "source": [
        "type(c)"
      ],
      "metadata": {
        "colab": {
          "base_uri": "https://localhost:8080/"
        },
        "id": "jllc61OEA5K7",
        "outputId": "0c26bbd6-6894-48a9-b2d6-7f67ec14cd8f"
      },
      "execution_count": 58,
      "outputs": [
        {
          "output_type": "execute_result",
          "data": {
            "text/plain": [
              "numpy.ndarray"
            ]
          },
          "metadata": {},
          "execution_count": 58
        }
      ]
    },
    {
      "cell_type": "code",
      "source": [
        "c.dtype"
      ],
      "metadata": {
        "colab": {
          "base_uri": "https://localhost:8080/"
        },
        "id": "sLROI5ysA5KB",
        "outputId": "049b67b4-5292-4a34-e71b-a099d5d22482"
      },
      "execution_count": 59,
      "outputs": [
        {
          "output_type": "execute_result",
          "data": {
            "text/plain": [
              "dtype('int64')"
            ]
          },
          "metadata": {},
          "execution_count": 59
        }
      ]
    },
    {
      "cell_type": "markdown",
      "source": [
        "MATH OPERATIONS ON ARRAY"
      ],
      "metadata": {
        "id": "YeUn2fP_D1rD"
      }
    },
    {
      "cell_type": "code",
      "source": [
        "lis1=[1,2,3,4,5]\n",
        "lis2=[6,7,8,9,10]\n",
        "print(lis1+lis2) \n",
        "#in list if you add the list gets appended "
      ],
      "metadata": {
        "colab": {
          "base_uri": "https://localhost:8080/"
        },
        "id": "KLX3qN1KA5Hx",
        "outputId": "3a4c973e-a37a-45de-b29e-6db20919f36a"
      },
      "execution_count": 60,
      "outputs": [
        {
          "output_type": "stream",
          "name": "stdout",
          "text": [
            "[1, 2, 3, 4, 5, 6, 7, 8, 9, 10]\n"
          ]
        }
      ]
    },
    {
      "cell_type": "code",
      "source": [
        "a=np.array([1,2,3,4,5])\n",
        "b=np.array([6,7,8,9,10])\n",
        "print(a+b)    #in numpy element wise are added"
      ],
      "metadata": {
        "colab": {
          "base_uri": "https://localhost:8080/"
        },
        "id": "ne9mT_MhA5E1",
        "outputId": "56bb5b78-32cc-43ee-f2c2-46e6d72e52dd"
      },
      "execution_count": 61,
      "outputs": [
        {
          "output_type": "stream",
          "name": "stdout",
          "text": [
            "[ 7  9 11 13 15]\n"
          ]
        }
      ]
    },
    {
      "cell_type": "code",
      "source": [
        "c=np.random.randint(10,100,(3,3)) \n",
        "print(c)\n",
        "d=np.random.randint(10,100,(3,3)) \n",
        "print(d)\n"
      ],
      "metadata": {
        "colab": {
          "base_uri": "https://localhost:8080/"
        },
        "id": "FQrbf4xcE7aZ",
        "outputId": "a2d7d45a-eeec-4b30-8685-24be4633b2ea"
      },
      "execution_count": 63,
      "outputs": [
        {
          "output_type": "stream",
          "name": "stdout",
          "text": [
            "[[46 66 45]\n",
            " [51 53 13]\n",
            " [56 98 94]]\n",
            "[[39 35 18]\n",
            " [66 34 42]\n",
            " [80 78 79]]\n"
          ]
        }
      ]
    },
    {
      "cell_type": "code",
      "source": [
        "print(c+d)\n",
        "print(np.add(c,d))  #or you can mention like this"
      ],
      "metadata": {
        "colab": {
          "base_uri": "https://localhost:8080/"
        },
        "id": "kr6DdfFmE7X_",
        "outputId": "30432552-707a-4549-baba-04b32783d469"
      },
      "execution_count": 68,
      "outputs": [
        {
          "output_type": "stream",
          "name": "stdout",
          "text": [
            "[[ 85 101  63]\n",
            " [117  87  55]\n",
            " [136 176 173]]\n",
            "[[ 85 101  63]\n",
            " [117  87  55]\n",
            " [136 176 173]]\n"
          ]
        }
      ]
    },
    {
      "cell_type": "code",
      "source": [
        "print(c-d)\n",
        "print(np.subtract(c,d))"
      ],
      "metadata": {
        "colab": {
          "base_uri": "https://localhost:8080/"
        },
        "id": "gBt6vi1IE7Va",
        "outputId": "dc9e833f-9279-4b2f-f7bd-58a2b38e6ade"
      },
      "execution_count": 69,
      "outputs": [
        {
          "output_type": "stream",
          "name": "stdout",
          "text": [
            "[[  7  31  27]\n",
            " [-15  19 -29]\n",
            " [-24  20  15]]\n",
            "[[  7  31  27]\n",
            " [-15  19 -29]\n",
            " [-24  20  15]]\n"
          ]
        }
      ]
    },
    {
      "cell_type": "code",
      "source": [
        "print(c*d)\n",
        "print(np.multiply(c,d))"
      ],
      "metadata": {
        "colab": {
          "base_uri": "https://localhost:8080/"
        },
        "id": "0IGSzeD6E7SN",
        "outputId": "12a07213-92ea-487c-910c-dc213d7728b4"
      },
      "execution_count": 70,
      "outputs": [
        {
          "output_type": "stream",
          "name": "stdout",
          "text": [
            "[[1794 2310  810]\n",
            " [3366 1802  546]\n",
            " [4480 7644 7426]]\n",
            "[[1794 2310  810]\n",
            " [3366 1802  546]\n",
            " [4480 7644 7426]]\n"
          ]
        }
      ]
    },
    {
      "cell_type": "code",
      "source": [
        "print(c/d)\n"
      ],
      "metadata": {
        "colab": {
          "base_uri": "https://localhost:8080/"
        },
        "id": "wqU0c4vFE7O0",
        "outputId": "094a7b7e-7d10-4b37-f070-91ddc01cb6f2"
      },
      "execution_count": 67,
      "outputs": [
        {
          "output_type": "stream",
          "name": "stdout",
          "text": [
            "[[1.17948718 1.88571429 2.5       ]\n",
            " [0.77272727 1.55882353 0.30952381]\n",
            " [0.7        1.25641026 1.18987342]]\n"
          ]
        }
      ]
    },
    {
      "cell_type": "markdown",
      "source": [
        "ARRAY MANIPULATION"
      ],
      "metadata": {
        "id": "DPmG2p3AGL4f"
      }
    },
    {
      "cell_type": "code",
      "source": [
        "array=np.random.randint(0,10,(2,3))\n",
        "print(array)\n",
        "print(array.shape)"
      ],
      "metadata": {
        "colab": {
          "base_uri": "https://localhost:8080/"
        },
        "id": "n-FmJWBoGLaC",
        "outputId": "6909163c-2628-42a1-a055-32a9318fdaef"
      },
      "execution_count": 72,
      "outputs": [
        {
          "output_type": "stream",
          "name": "stdout",
          "text": [
            "[[9 7 0]\n",
            " [5 2 4]]\n",
            "(2, 3)\n"
          ]
        }
      ]
    },
    {
      "cell_type": "code",
      "source": [
        "trans=np.transpose(array)\n",
        "print(trans)\n",
        "print(trans.shape)"
      ],
      "metadata": {
        "colab": {
          "base_uri": "https://localhost:8080/"
        },
        "id": "wapEbWXuFoUk",
        "outputId": "05cc80af-971c-4e95-9b66-1207629218d7"
      },
      "execution_count": 73,
      "outputs": [
        {
          "output_type": "stream",
          "name": "stdout",
          "text": [
            "[[9 5]\n",
            " [7 2]\n",
            " [0 4]]\n",
            "(3, 2)\n"
          ]
        }
      ]
    },
    {
      "cell_type": "markdown",
      "source": [
        "another method"
      ],
      "metadata": {
        "id": "roLycRX9HG7A"
      }
    },
    {
      "cell_type": "code",
      "source": [
        "array=np.random.randint(0,10,(2,3))\n",
        "print(array)\n",
        "print(array.shape)"
      ],
      "metadata": {
        "colab": {
          "base_uri": "https://localhost:8080/"
        },
        "id": "UuIpREwqFoXa",
        "outputId": "1b0cd89f-958a-4d1b-f509-568d5b2b631a"
      },
      "execution_count": 74,
      "outputs": [
        {
          "output_type": "stream",
          "name": "stdout",
          "text": [
            "[[6 4 7]\n",
            " [5 5 1]]\n",
            "(2, 3)\n"
          ]
        }
      ]
    },
    {
      "cell_type": "code",
      "source": [
        "trans2=array.T\n",
        "print(trans2)\n",
        "print(trans2.shape)"
      ],
      "metadata": {
        "colab": {
          "base_uri": "https://localhost:8080/"
        },
        "id": "jZauclOFFoaR",
        "outputId": "ef9ebeed-1146-4a10-b971-4d177d745295"
      },
      "execution_count": 78,
      "outputs": [
        {
          "output_type": "stream",
          "name": "stdout",
          "text": [
            "[[6 5]\n",
            " [4 5]\n",
            " [7 1]]\n",
            "(3, 2)\n"
          ]
        }
      ]
    },
    {
      "cell_type": "markdown",
      "source": [
        "Reshaping a Array "
      ],
      "metadata": {
        "id": "Mq6gDJ-4Hdqf"
      }
    },
    {
      "cell_type": "code",
      "source": [
        "a=np.random.randint(0,10,(2,3))\n",
        "print(a)\n",
        "print(a.shape)"
      ],
      "metadata": {
        "colab": {
          "base_uri": "https://localhost:8080/"
        },
        "id": "SdQktXMaFocS",
        "outputId": "81a5e0e9-10ff-4539-e5b4-cdfa5abcadff"
      },
      "execution_count": 79,
      "outputs": [
        {
          "output_type": "stream",
          "name": "stdout",
          "text": [
            "[[0 6 7]\n",
            " [7 6 4]]\n",
            "(2, 3)\n"
          ]
        }
      ]
    },
    {
      "cell_type": "code",
      "source": [
        "b=a.reshape(3,2)\n",
        "print(b)\n",
        "print(b.shape)"
      ],
      "metadata": {
        "colab": {
          "base_uri": "https://localhost:8080/"
        },
        "id": "x3LISWr6Foev",
        "outputId": "f100120a-65a0-455e-fab3-1be036bc21b5"
      },
      "execution_count": 80,
      "outputs": [
        {
          "output_type": "stream",
          "name": "stdout",
          "text": [
            "[[0 6]\n",
            " [7 7]\n",
            " [6 4]]\n",
            "(3, 2)\n"
          ]
        }
      ]
    }
  ]
}