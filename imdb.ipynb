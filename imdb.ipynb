{
  "nbformat": 4,
  "nbformat_minor": 0,
  "metadata": {
    "colab": {
      "provenance": [],
      "authorship_tag": "ABX9TyM6TnMJPNgVv3jfb89cH/IU",
      "include_colab_link": true
    },
    "kernelspec": {
      "name": "python3",
      "display_name": "Python 3"
    },
    "language_info": {
      "name": "python"
    }
  },
  "cells": [
    {
      "cell_type": "markdown",
      "metadata": {
        "id": "view-in-github",
        "colab_type": "text"
      },
      "source": [
        "<a href=\"https://colab.research.google.com/github/vigneshlakshh/vigneshlakshh/blob/main/imdb.ipynb\" target=\"_parent\"><img src=\"https://colab.research.google.com/assets/colab-badge.svg\" alt=\"Open In Colab\"/></a>"
      ]
    },
    {
      "cell_type": "code",
      "execution_count": 4,
      "metadata": {
        "colab": {
          "base_uri": "https://localhost:8080/",
          "height": 223
        },
        "id": "FDyNG-w2TOD-",
        "outputId": "e426d91d-95b6-4eef-d49c-1341ad628ebf"
      },
      "outputs": [
        {
          "output_type": "stream",
          "name": "stdout",
          "text": [
            "(50000, 2)\n"
          ]
        },
        {
          "output_type": "execute_result",
          "data": {
            "text/plain": [
              "                                              review sentiment\n",
              "0  One of the other reviewers has mentioned that ...  positive\n",
              "1  A wonderful little production. <br /><br />The...  positive\n",
              "2  I thought this was a wonderful way to spend ti...  positive\n",
              "3  Basically there's a family where a little boy ...  negative\n",
              "4  Petter Mattei's \"Love in the Time of Money\" is...  positive"
            ],
            "text/html": [
              "\n",
              "  <div id=\"df-83fd870e-27c0-41ef-8e79-3baca7511e74\">\n",
              "    <div class=\"colab-df-container\">\n",
              "      <div>\n",
              "<style scoped>\n",
              "    .dataframe tbody tr th:only-of-type {\n",
              "        vertical-align: middle;\n",
              "    }\n",
              "\n",
              "    .dataframe tbody tr th {\n",
              "        vertical-align: top;\n",
              "    }\n",
              "\n",
              "    .dataframe thead th {\n",
              "        text-align: right;\n",
              "    }\n",
              "</style>\n",
              "<table border=\"1\" class=\"dataframe\">\n",
              "  <thead>\n",
              "    <tr style=\"text-align: right;\">\n",
              "      <th></th>\n",
              "      <th>review</th>\n",
              "      <th>sentiment</th>\n",
              "    </tr>\n",
              "  </thead>\n",
              "  <tbody>\n",
              "    <tr>\n",
              "      <th>0</th>\n",
              "      <td>One of the other reviewers has mentioned that ...</td>\n",
              "      <td>positive</td>\n",
              "    </tr>\n",
              "    <tr>\n",
              "      <th>1</th>\n",
              "      <td>A wonderful little production. &lt;br /&gt;&lt;br /&gt;The...</td>\n",
              "      <td>positive</td>\n",
              "    </tr>\n",
              "    <tr>\n",
              "      <th>2</th>\n",
              "      <td>I thought this was a wonderful way to spend ti...</td>\n",
              "      <td>positive</td>\n",
              "    </tr>\n",
              "    <tr>\n",
              "      <th>3</th>\n",
              "      <td>Basically there's a family where a little boy ...</td>\n",
              "      <td>negative</td>\n",
              "    </tr>\n",
              "    <tr>\n",
              "      <th>4</th>\n",
              "      <td>Petter Mattei's \"Love in the Time of Money\" is...</td>\n",
              "      <td>positive</td>\n",
              "    </tr>\n",
              "  </tbody>\n",
              "</table>\n",
              "</div>\n",
              "      <button class=\"colab-df-convert\" onclick=\"convertToInteractive('df-83fd870e-27c0-41ef-8e79-3baca7511e74')\"\n",
              "              title=\"Convert this dataframe to an interactive table.\"\n",
              "              style=\"display:none;\">\n",
              "        \n",
              "  <svg xmlns=\"http://www.w3.org/2000/svg\" height=\"24px\"viewBox=\"0 0 24 24\"\n",
              "       width=\"24px\">\n",
              "    <path d=\"M0 0h24v24H0V0z\" fill=\"none\"/>\n",
              "    <path d=\"M18.56 5.44l.94 2.06.94-2.06 2.06-.94-2.06-.94-.94-2.06-.94 2.06-2.06.94zm-11 1L8.5 8.5l.94-2.06 2.06-.94-2.06-.94L8.5 2.5l-.94 2.06-2.06.94zm10 10l.94 2.06.94-2.06 2.06-.94-2.06-.94-.94-2.06-.94 2.06-2.06.94z\"/><path d=\"M17.41 7.96l-1.37-1.37c-.4-.4-.92-.59-1.43-.59-.52 0-1.04.2-1.43.59L10.3 9.45l-7.72 7.72c-.78.78-.78 2.05 0 2.83L4 21.41c.39.39.9.59 1.41.59.51 0 1.02-.2 1.41-.59l7.78-7.78 2.81-2.81c.8-.78.8-2.07 0-2.86zM5.41 20L4 18.59l7.72-7.72 1.47 1.35L5.41 20z\"/>\n",
              "  </svg>\n",
              "      </button>\n",
              "      \n",
              "  <style>\n",
              "    .colab-df-container {\n",
              "      display:flex;\n",
              "      flex-wrap:wrap;\n",
              "      gap: 12px;\n",
              "    }\n",
              "\n",
              "    .colab-df-convert {\n",
              "      background-color: #E8F0FE;\n",
              "      border: none;\n",
              "      border-radius: 50%;\n",
              "      cursor: pointer;\n",
              "      display: none;\n",
              "      fill: #1967D2;\n",
              "      height: 32px;\n",
              "      padding: 0 0 0 0;\n",
              "      width: 32px;\n",
              "    }\n",
              "\n",
              "    .colab-df-convert:hover {\n",
              "      background-color: #E2EBFA;\n",
              "      box-shadow: 0px 1px 2px rgba(60, 64, 67, 0.3), 0px 1px 3px 1px rgba(60, 64, 67, 0.15);\n",
              "      fill: #174EA6;\n",
              "    }\n",
              "\n",
              "    [theme=dark] .colab-df-convert {\n",
              "      background-color: #3B4455;\n",
              "      fill: #D2E3FC;\n",
              "    }\n",
              "\n",
              "    [theme=dark] .colab-df-convert:hover {\n",
              "      background-color: #434B5C;\n",
              "      box-shadow: 0px 1px 3px 1px rgba(0, 0, 0, 0.15);\n",
              "      filter: drop-shadow(0px 1px 2px rgba(0, 0, 0, 0.3));\n",
              "      fill: #FFFFFF;\n",
              "    }\n",
              "  </style>\n",
              "\n",
              "      <script>\n",
              "        const buttonEl =\n",
              "          document.querySelector('#df-83fd870e-27c0-41ef-8e79-3baca7511e74 button.colab-df-convert');\n",
              "        buttonEl.style.display =\n",
              "          google.colab.kernel.accessAllowed ? 'block' : 'none';\n",
              "\n",
              "        async function convertToInteractive(key) {\n",
              "          const element = document.querySelector('#df-83fd870e-27c0-41ef-8e79-3baca7511e74');\n",
              "          const dataTable =\n",
              "            await google.colab.kernel.invokeFunction('convertToInteractive',\n",
              "                                                     [key], {});\n",
              "          if (!dataTable) return;\n",
              "\n",
              "          const docLinkHtml = 'Like what you see? Visit the ' +\n",
              "            '<a target=\"_blank\" href=https://colab.research.google.com/notebooks/data_table.ipynb>data table notebook</a>'\n",
              "            + ' to learn more about interactive tables.';\n",
              "          element.innerHTML = '';\n",
              "          dataTable['output_type'] = 'display_data';\n",
              "          await google.colab.output.renderOutput(dataTable, element);\n",
              "          const docLink = document.createElement('div');\n",
              "          docLink.innerHTML = docLinkHtml;\n",
              "          element.appendChild(docLink);\n",
              "        }\n",
              "      </script>\n",
              "    </div>\n",
              "  </div>\n",
              "  "
            ]
          },
          "metadata": {},
          "execution_count": 4
        }
      ],
      "source": [
        "import pandas as pd\n",
        "df = pd.read_csv(\"IMDB Dataset.csv\",engine='python')\n",
        "print(df.shape)\n",
        "df.head(5)"
      ]
    },
    {
      "cell_type": "code",
      "source": [
        "df['sentiment'].value_counts() "
      ],
      "metadata": {
        "colab": {
          "base_uri": "https://localhost:8080/"
        },
        "id": "tqDxanigTbIo",
        "outputId": "e9f35a81-8a08-4957-d9a1-22caee26023b"
      },
      "execution_count": 5,
      "outputs": [
        {
          "output_type": "execute_result",
          "data": {
            "text/plain": [
              "positive    25000\n",
              "negative    25000\n",
              "Name: sentiment, dtype: int64"
            ]
          },
          "metadata": {},
          "execution_count": 5
        }
      ]
    },
    {
      "cell_type": "code",
      "source": [
        "df['senti']=df['sentiment'].map({'positive':1,'negative':0})\n",
        "df.head()"
      ],
      "metadata": {
        "colab": {
          "base_uri": "https://localhost:8080/",
          "height": 206
        },
        "id": "GRH_zEXlTbYo",
        "outputId": "447a9f6c-3af4-46a0-a411-20367f3319b0"
      },
      "execution_count": 6,
      "outputs": [
        {
          "output_type": "execute_result",
          "data": {
            "text/plain": [
              "                                              review sentiment  senti\n",
              "0  One of the other reviewers has mentioned that ...  positive      1\n",
              "1  A wonderful little production. <br /><br />The...  positive      1\n",
              "2  I thought this was a wonderful way to spend ti...  positive      1\n",
              "3  Basically there's a family where a little boy ...  negative      0\n",
              "4  Petter Mattei's \"Love in the Time of Money\" is...  positive      1"
            ],
            "text/html": [
              "\n",
              "  <div id=\"df-e00b4b78-7e4c-4718-ae0f-5a0e61bf7cbd\">\n",
              "    <div class=\"colab-df-container\">\n",
              "      <div>\n",
              "<style scoped>\n",
              "    .dataframe tbody tr th:only-of-type {\n",
              "        vertical-align: middle;\n",
              "    }\n",
              "\n",
              "    .dataframe tbody tr th {\n",
              "        vertical-align: top;\n",
              "    }\n",
              "\n",
              "    .dataframe thead th {\n",
              "        text-align: right;\n",
              "    }\n",
              "</style>\n",
              "<table border=\"1\" class=\"dataframe\">\n",
              "  <thead>\n",
              "    <tr style=\"text-align: right;\">\n",
              "      <th></th>\n",
              "      <th>review</th>\n",
              "      <th>sentiment</th>\n",
              "      <th>senti</th>\n",
              "    </tr>\n",
              "  </thead>\n",
              "  <tbody>\n",
              "    <tr>\n",
              "      <th>0</th>\n",
              "      <td>One of the other reviewers has mentioned that ...</td>\n",
              "      <td>positive</td>\n",
              "      <td>1</td>\n",
              "    </tr>\n",
              "    <tr>\n",
              "      <th>1</th>\n",
              "      <td>A wonderful little production. &lt;br /&gt;&lt;br /&gt;The...</td>\n",
              "      <td>positive</td>\n",
              "      <td>1</td>\n",
              "    </tr>\n",
              "    <tr>\n",
              "      <th>2</th>\n",
              "      <td>I thought this was a wonderful way to spend ti...</td>\n",
              "      <td>positive</td>\n",
              "      <td>1</td>\n",
              "    </tr>\n",
              "    <tr>\n",
              "      <th>3</th>\n",
              "      <td>Basically there's a family where a little boy ...</td>\n",
              "      <td>negative</td>\n",
              "      <td>0</td>\n",
              "    </tr>\n",
              "    <tr>\n",
              "      <th>4</th>\n",
              "      <td>Petter Mattei's \"Love in the Time of Money\" is...</td>\n",
              "      <td>positive</td>\n",
              "      <td>1</td>\n",
              "    </tr>\n",
              "  </tbody>\n",
              "</table>\n",
              "</div>\n",
              "      <button class=\"colab-df-convert\" onclick=\"convertToInteractive('df-e00b4b78-7e4c-4718-ae0f-5a0e61bf7cbd')\"\n",
              "              title=\"Convert this dataframe to an interactive table.\"\n",
              "              style=\"display:none;\">\n",
              "        \n",
              "  <svg xmlns=\"http://www.w3.org/2000/svg\" height=\"24px\"viewBox=\"0 0 24 24\"\n",
              "       width=\"24px\">\n",
              "    <path d=\"M0 0h24v24H0V0z\" fill=\"none\"/>\n",
              "    <path d=\"M18.56 5.44l.94 2.06.94-2.06 2.06-.94-2.06-.94-.94-2.06-.94 2.06-2.06.94zm-11 1L8.5 8.5l.94-2.06 2.06-.94-2.06-.94L8.5 2.5l-.94 2.06-2.06.94zm10 10l.94 2.06.94-2.06 2.06-.94-2.06-.94-.94-2.06-.94 2.06-2.06.94z\"/><path d=\"M17.41 7.96l-1.37-1.37c-.4-.4-.92-.59-1.43-.59-.52 0-1.04.2-1.43.59L10.3 9.45l-7.72 7.72c-.78.78-.78 2.05 0 2.83L4 21.41c.39.39.9.59 1.41.59.51 0 1.02-.2 1.41-.59l7.78-7.78 2.81-2.81c.8-.78.8-2.07 0-2.86zM5.41 20L4 18.59l7.72-7.72 1.47 1.35L5.41 20z\"/>\n",
              "  </svg>\n",
              "      </button>\n",
              "      \n",
              "  <style>\n",
              "    .colab-df-container {\n",
              "      display:flex;\n",
              "      flex-wrap:wrap;\n",
              "      gap: 12px;\n",
              "    }\n",
              "\n",
              "    .colab-df-convert {\n",
              "      background-color: #E8F0FE;\n",
              "      border: none;\n",
              "      border-radius: 50%;\n",
              "      cursor: pointer;\n",
              "      display: none;\n",
              "      fill: #1967D2;\n",
              "      height: 32px;\n",
              "      padding: 0 0 0 0;\n",
              "      width: 32px;\n",
              "    }\n",
              "\n",
              "    .colab-df-convert:hover {\n",
              "      background-color: #E2EBFA;\n",
              "      box-shadow: 0px 1px 2px rgba(60, 64, 67, 0.3), 0px 1px 3px 1px rgba(60, 64, 67, 0.15);\n",
              "      fill: #174EA6;\n",
              "    }\n",
              "\n",
              "    [theme=dark] .colab-df-convert {\n",
              "      background-color: #3B4455;\n",
              "      fill: #D2E3FC;\n",
              "    }\n",
              "\n",
              "    [theme=dark] .colab-df-convert:hover {\n",
              "      background-color: #434B5C;\n",
              "      box-shadow: 0px 1px 3px 1px rgba(0, 0, 0, 0.15);\n",
              "      filter: drop-shadow(0px 1px 2px rgba(0, 0, 0, 0.3));\n",
              "      fill: #FFFFFF;\n",
              "    }\n",
              "  </style>\n",
              "\n",
              "      <script>\n",
              "        const buttonEl =\n",
              "          document.querySelector('#df-e00b4b78-7e4c-4718-ae0f-5a0e61bf7cbd button.colab-df-convert');\n",
              "        buttonEl.style.display =\n",
              "          google.colab.kernel.accessAllowed ? 'block' : 'none';\n",
              "\n",
              "        async function convertToInteractive(key) {\n",
              "          const element = document.querySelector('#df-e00b4b78-7e4c-4718-ae0f-5a0e61bf7cbd');\n",
              "          const dataTable =\n",
              "            await google.colab.kernel.invokeFunction('convertToInteractive',\n",
              "                                                     [key], {});\n",
              "          if (!dataTable) return;\n",
              "\n",
              "          const docLinkHtml = 'Like what you see? Visit the ' +\n",
              "            '<a target=\"_blank\" href=https://colab.research.google.com/notebooks/data_table.ipynb>data table notebook</a>'\n",
              "            + ' to learn more about interactive tables.';\n",
              "          element.innerHTML = '';\n",
              "          dataTable['output_type'] = 'display_data';\n",
              "          await google.colab.output.renderOutput(dataTable, element);\n",
              "          const docLink = document.createElement('div');\n",
              "          docLink.innerHTML = docLinkHtml;\n",
              "          element.appendChild(docLink);\n",
              "        }\n",
              "      </script>\n",
              "    </div>\n",
              "  </div>\n",
              "  "
            ]
          },
          "metadata": {},
          "execution_count": 6
        }
      ]
    },
    {
      "cell_type": "code",
      "source": [
        "import spacy\n",
        "import en_core_web_sm\n",
        "nlp = spacy.load(\"en_core_web_sm\")"
      ],
      "metadata": {
        "id": "RLQm6Pr_Tbcm"
      },
      "execution_count": 7,
      "outputs": []
    },
    {
      "cell_type": "code",
      "source": [
        "df['vector'] = df['review'].apply(lambda review: nlp(review).vector) "
      ],
      "metadata": {
        "id": "iBpCLM-CTbgJ"
      },
      "execution_count": 8,
      "outputs": []
    },
    {
      "cell_type": "code",
      "source": [
        "df.head()"
      ],
      "metadata": {
        "colab": {
          "base_uri": "https://localhost:8080/",
          "height": 206
        },
        "id": "xbjBuseTTbiv",
        "outputId": "090a3df1-edd0-4f81-c3de-d3cd7a19c82a"
      },
      "execution_count": 9,
      "outputs": [
        {
          "output_type": "execute_result",
          "data": {
            "text/plain": [
              "                                              review sentiment  senti  \\\n",
              "0  One of the other reviewers has mentioned that ...  positive      1   \n",
              "1  A wonderful little production. <br /><br />The...  positive      1   \n",
              "2  I thought this was a wonderful way to spend ti...  positive      1   \n",
              "3  Basically there's a family where a little boy ...  negative      0   \n",
              "4  Petter Mattei's \"Love in the Time of Money\" is...  positive      1   \n",
              "\n",
              "                                              vector  \n",
              "0  [0.2444776, 0.019941758, 0.15359198, -0.137270...  \n",
              "1  [0.16746117, -0.021590881, 0.090280674, 0.0083...  \n",
              "2  [0.0699091, 0.12425062, 0.2107406, -0.10246685...  \n",
              "3  [0.13119352, 0.010334737, 0.097801216, -0.0748...  \n",
              "4  [0.26084697, 0.028746849, 0.08646768, -0.06552...  "
            ],
            "text/html": [
              "\n",
              "  <div id=\"df-ed6689dd-04ac-41ca-bf4a-9e2753bbb81a\">\n",
              "    <div class=\"colab-df-container\">\n",
              "      <div>\n",
              "<style scoped>\n",
              "    .dataframe tbody tr th:only-of-type {\n",
              "        vertical-align: middle;\n",
              "    }\n",
              "\n",
              "    .dataframe tbody tr th {\n",
              "        vertical-align: top;\n",
              "    }\n",
              "\n",
              "    .dataframe thead th {\n",
              "        text-align: right;\n",
              "    }\n",
              "</style>\n",
              "<table border=\"1\" class=\"dataframe\">\n",
              "  <thead>\n",
              "    <tr style=\"text-align: right;\">\n",
              "      <th></th>\n",
              "      <th>review</th>\n",
              "      <th>sentiment</th>\n",
              "      <th>senti</th>\n",
              "      <th>vector</th>\n",
              "    </tr>\n",
              "  </thead>\n",
              "  <tbody>\n",
              "    <tr>\n",
              "      <th>0</th>\n",
              "      <td>One of the other reviewers has mentioned that ...</td>\n",
              "      <td>positive</td>\n",
              "      <td>1</td>\n",
              "      <td>[0.2444776, 0.019941758, 0.15359198, -0.137270...</td>\n",
              "    </tr>\n",
              "    <tr>\n",
              "      <th>1</th>\n",
              "      <td>A wonderful little production. &lt;br /&gt;&lt;br /&gt;The...</td>\n",
              "      <td>positive</td>\n",
              "      <td>1</td>\n",
              "      <td>[0.16746117, -0.021590881, 0.090280674, 0.0083...</td>\n",
              "    </tr>\n",
              "    <tr>\n",
              "      <th>2</th>\n",
              "      <td>I thought this was a wonderful way to spend ti...</td>\n",
              "      <td>positive</td>\n",
              "      <td>1</td>\n",
              "      <td>[0.0699091, 0.12425062, 0.2107406, -0.10246685...</td>\n",
              "    </tr>\n",
              "    <tr>\n",
              "      <th>3</th>\n",
              "      <td>Basically there's a family where a little boy ...</td>\n",
              "      <td>negative</td>\n",
              "      <td>0</td>\n",
              "      <td>[0.13119352, 0.010334737, 0.097801216, -0.0748...</td>\n",
              "    </tr>\n",
              "    <tr>\n",
              "      <th>4</th>\n",
              "      <td>Petter Mattei's \"Love in the Time of Money\" is...</td>\n",
              "      <td>positive</td>\n",
              "      <td>1</td>\n",
              "      <td>[0.26084697, 0.028746849, 0.08646768, -0.06552...</td>\n",
              "    </tr>\n",
              "  </tbody>\n",
              "</table>\n",
              "</div>\n",
              "      <button class=\"colab-df-convert\" onclick=\"convertToInteractive('df-ed6689dd-04ac-41ca-bf4a-9e2753bbb81a')\"\n",
              "              title=\"Convert this dataframe to an interactive table.\"\n",
              "              style=\"display:none;\">\n",
              "        \n",
              "  <svg xmlns=\"http://www.w3.org/2000/svg\" height=\"24px\"viewBox=\"0 0 24 24\"\n",
              "       width=\"24px\">\n",
              "    <path d=\"M0 0h24v24H0V0z\" fill=\"none\"/>\n",
              "    <path d=\"M18.56 5.44l.94 2.06.94-2.06 2.06-.94-2.06-.94-.94-2.06-.94 2.06-2.06.94zm-11 1L8.5 8.5l.94-2.06 2.06-.94-2.06-.94L8.5 2.5l-.94 2.06-2.06.94zm10 10l.94 2.06.94-2.06 2.06-.94-2.06-.94-.94-2.06-.94 2.06-2.06.94z\"/><path d=\"M17.41 7.96l-1.37-1.37c-.4-.4-.92-.59-1.43-.59-.52 0-1.04.2-1.43.59L10.3 9.45l-7.72 7.72c-.78.78-.78 2.05 0 2.83L4 21.41c.39.39.9.59 1.41.59.51 0 1.02-.2 1.41-.59l7.78-7.78 2.81-2.81c.8-.78.8-2.07 0-2.86zM5.41 20L4 18.59l7.72-7.72 1.47 1.35L5.41 20z\"/>\n",
              "  </svg>\n",
              "      </button>\n",
              "      \n",
              "  <style>\n",
              "    .colab-df-container {\n",
              "      display:flex;\n",
              "      flex-wrap:wrap;\n",
              "      gap: 12px;\n",
              "    }\n",
              "\n",
              "    .colab-df-convert {\n",
              "      background-color: #E8F0FE;\n",
              "      border: none;\n",
              "      border-radius: 50%;\n",
              "      cursor: pointer;\n",
              "      display: none;\n",
              "      fill: #1967D2;\n",
              "      height: 32px;\n",
              "      padding: 0 0 0 0;\n",
              "      width: 32px;\n",
              "    }\n",
              "\n",
              "    .colab-df-convert:hover {\n",
              "      background-color: #E2EBFA;\n",
              "      box-shadow: 0px 1px 2px rgba(60, 64, 67, 0.3), 0px 1px 3px 1px rgba(60, 64, 67, 0.15);\n",
              "      fill: #174EA6;\n",
              "    }\n",
              "\n",
              "    [theme=dark] .colab-df-convert {\n",
              "      background-color: #3B4455;\n",
              "      fill: #D2E3FC;\n",
              "    }\n",
              "\n",
              "    [theme=dark] .colab-df-convert:hover {\n",
              "      background-color: #434B5C;\n",
              "      box-shadow: 0px 1px 3px 1px rgba(0, 0, 0, 0.15);\n",
              "      filter: drop-shadow(0px 1px 2px rgba(0, 0, 0, 0.3));\n",
              "      fill: #FFFFFF;\n",
              "    }\n",
              "  </style>\n",
              "\n",
              "      <script>\n",
              "        const buttonEl =\n",
              "          document.querySelector('#df-ed6689dd-04ac-41ca-bf4a-9e2753bbb81a button.colab-df-convert');\n",
              "        buttonEl.style.display =\n",
              "          google.colab.kernel.accessAllowed ? 'block' : 'none';\n",
              "\n",
              "        async function convertToInteractive(key) {\n",
              "          const element = document.querySelector('#df-ed6689dd-04ac-41ca-bf4a-9e2753bbb81a');\n",
              "          const dataTable =\n",
              "            await google.colab.kernel.invokeFunction('convertToInteractive',\n",
              "                                                     [key], {});\n",
              "          if (!dataTable) return;\n",
              "\n",
              "          const docLinkHtml = 'Like what you see? Visit the ' +\n",
              "            '<a target=\"_blank\" href=https://colab.research.google.com/notebooks/data_table.ipynb>data table notebook</a>'\n",
              "            + ' to learn more about interactive tables.';\n",
              "          element.innerHTML = '';\n",
              "          dataTable['output_type'] = 'display_data';\n",
              "          await google.colab.output.renderOutput(dataTable, element);\n",
              "          const docLink = document.createElement('div');\n",
              "          docLink.innerHTML = docLinkHtml;\n",
              "          element.appendChild(docLink);\n",
              "        }\n",
              "      </script>\n",
              "    </div>\n",
              "  </div>\n",
              "  "
            ]
          },
          "metadata": {},
          "execution_count": 9
        }
      ]
    },
    {
      "cell_type": "code",
      "source": [
        "from sklearn.model_selection import train_test_split   \n",
        "\n",
        "X_train, X_test, y_train, y_test = train_test_split(\n",
        "    df.vector.values,\n",
        "    df.senti,\n",
        "    test_size=0.2,\n",
        "    random_state=2022\n",
        ")  #Using 80/20 Split"
      ],
      "metadata": {
        "id": "pTgaEdYRTblY"
      },
      "execution_count": 10,
      "outputs": []
    },
    {
      "cell_type": "code",
      "source": [
        "X_train.shape"
      ],
      "metadata": {
        "colab": {
          "base_uri": "https://localhost:8080/"
        },
        "id": "VCiAv6ehTboP",
        "outputId": "356dd85b-5b2f-43d2-8309-8163b57b0154"
      },
      "execution_count": 11,
      "outputs": [
        {
          "output_type": "execute_result",
          "data": {
            "text/plain": [
              "(40000,)"
            ]
          },
          "metadata": {},
          "execution_count": 11
        }
      ]
    },
    {
      "cell_type": "code",
      "source": [
        "X_test.shape"
      ],
      "metadata": {
        "colab": {
          "base_uri": "https://localhost:8080/"
        },
        "id": "Y0uZJ09aTbqi",
        "outputId": "20e0828f-73e0-41bb-e834-86daf7d2e177"
      },
      "execution_count": 12,
      "outputs": [
        {
          "output_type": "execute_result",
          "data": {
            "text/plain": [
              "(10000,)"
            ]
          },
          "metadata": {},
          "execution_count": 12
        }
      ]
    },
    {
      "cell_type": "code",
      "source": [
        "X_train  "
      ],
      "metadata": {
        "colab": {
          "base_uri": "https://localhost:8080/"
        },
        "id": "EcKRG68HTbs9",
        "outputId": "78a57333-3442-464a-e6b5-9d6d9e976232"
      },
      "execution_count": 13,
      "outputs": [
        {
          "output_type": "execute_result",
          "data": {
            "text/plain": [
              "array([array([ 0.11712133,  0.02305273,  0.17052478, -0.04293274,  0.09563934,\n",
              "              -0.13267864, -0.03501281, -0.03024652,  0.11233119,  0.08985726,\n",
              "               0.20416628, -0.2089935 ,  0.00787368,  0.04347388, -0.01710206,\n",
              "               0.06322994, -0.05440715, -0.00801413, -0.20536448, -0.10888942,\n",
              "               0.09662248,  0.12464511, -0.02762269, -0.04143442,  0.00761847,\n",
              "              -0.03643603,  0.08707584, -0.02308567, -0.26273692,  0.23385417,\n",
              "              -0.13362472,  0.1488972 , -0.14514779, -0.01588277, -0.09541325,\n",
              "               0.0804648 , -0.03604294, -0.16681643, -0.01540601,  0.22435944,\n",
              "               0.2478402 ,  0.41423732,  0.02477771, -0.29061213, -0.11778229,\n",
              "               0.15976003,  0.20285973,  0.20389077, -0.05034865,  0.1147118 ,\n",
              "              -0.01644088, -0.07549083, -0.07635842,  0.12196292, -0.04762588,\n",
              "              -0.01937373,  0.27104768, -0.0530624 , -0.07771766, -0.04526581,\n",
              "              -0.04166964, -0.12425579, -0.01145377, -0.01677374, -0.08179692,\n",
              "              -0.2551808 ,  0.07902557, -0.01953901, -0.17895511, -0.10488991,\n",
              "               0.06301632,  0.07432532, -0.27377936, -0.05037221, -0.3107562 ,\n",
              "               0.10243274,  0.06077718,  0.21770293, -0.0916639 ,  0.07990064,\n",
              "              -0.02126606, -0.1138214 ,  0.14009745,  0.19041996, -0.0767492 ,\n",
              "              -0.03375905,  0.09555424,  0.20248628, -0.08144331,  0.18292263,\n",
              "              -0.27138734, -0.22861426,  0.07050937, -0.26518783,  0.12645094,\n",
              "              -0.37665737], dtype=float32)                                    ,\n",
              "       array([ 1.30501792e-01, -3.02265864e-04,  1.11475393e-01, -1.61800146e-01,\n",
              "               1.27715632e-01, -1.47581130e-01,  3.96258682e-01,  9.93064195e-02,\n",
              "              -4.23961543e-02,  2.19556093e-02,  3.46129388e-01, -3.16225350e-01,\n",
              "               1.08637102e-01,  5.92004657e-02, -9.87433568e-02,  2.28387453e-02,\n",
              "               3.69953103e-02,  2.76197374e-01,  1.21281840e-01, -3.31110835e-01,\n",
              "               3.39790247e-02,  1.62141591e-01, -1.66167635e-02, -1.09068274e-01,\n",
              "               2.17212047e-02,  1.04294337e-01,  2.74298817e-01, -2.49646828e-01,\n",
              "              -5.00074267e-01,  3.55997771e-01, -2.78410017e-01,  4.10087794e-01,\n",
              "              -5.46177998e-02,  3.69888060e-02, -2.47626930e-01,  1.15696788e-01,\n",
              "              -7.53138307e-03, -5.49676456e-02,  1.97353568e-02,  7.81044215e-02,\n",
              "               2.58347422e-01,  2.87638992e-01,  7.98493773e-02, -2.81638354e-01,\n",
              "              -3.55028152e-01, -1.02374867e-01,  7.36988783e-02,  1.66387573e-01,\n",
              "               3.52725312e-02, -5.41175890e-04, -7.31041059e-02, -6.97448999e-02,\n",
              "              -1.09434649e-01,  1.14098340e-01, -5.70398271e-02,  3.91358323e-02,\n",
              "               3.47947818e-03, -1.21270515e-01,  1.92029700e-01,  9.28755924e-02,\n",
              "               2.12760791e-01,  8.48193839e-02,  1.46133125e-01, -1.06002524e-01,\n",
              "              -2.24237606e-01, -4.48263809e-02, -7.53705949e-02,  7.42204040e-02,\n",
              "              -3.41172159e-01, -4.96892259e-02,  1.12475492e-01, -1.57255217e-01,\n",
              "              -1.04461402e-01, -2.11320929e-02, -1.50918499e-01, -2.82043759e-02,\n",
              "               2.40753785e-01,  2.46115267e-01, -1.04083546e-01,  1.41648337e-01,\n",
              "              -2.01959729e-01, -2.91670382e-01, -3.86409983e-02,  1.30572334e-01,\n",
              "              -2.39857733e-01,  4.48314138e-02,  3.42653245e-02,  2.62774855e-01,\n",
              "              -7.75338560e-02,  2.21678913e-01, -1.09062932e-01, -1.80752844e-01,\n",
              "               1.28379539e-01, -4.85373020e-01,  1.49339616e-01, -2.50930339e-01],\n",
              "             dtype=float32)                                                       ,\n",
              "       array([ 0.12503873, -0.04246379,  0.05444648, -0.10614619,  0.0128127 ,\n",
              "              -0.1903862 ,  0.04893216,  0.02033701, -0.00655409, -0.00060867,\n",
              "               0.12738702, -0.1041154 , -0.0373503 , -0.00830679, -0.06557033,\n",
              "               0.0671325 ,  0.14697579,  0.13907276, -0.05970618, -0.22400296,\n",
              "               0.08854549, -0.01385977, -0.00902312,  0.14949319,  0.03777687,\n",
              "              -0.06965237,  0.09594439, -0.00317974, -0.424206  ,  0.34314057,\n",
              "              -0.1971862 ,  0.21753702, -0.19127306, -0.17632228, -0.07299469,\n",
              "               0.11999428, -0.1302999 , -0.11619188,  0.02311265,  0.04766739,\n",
              "               0.4174941 ,  0.36947906, -0.00154518, -0.39938536, -0.13825992,\n",
              "               0.07615009,  0.30381587,  0.19837455, -0.11379877, -0.00945365,\n",
              "               0.16179882, -0.01354498, -0.08901516,  0.17714125, -0.14769723,\n",
              "               0.02950684,  0.32845262, -0.02236372, -0.07886757,  0.10902199,\n",
              "              -0.13635033, -0.21943304, -0.01040386, -0.06513466, -0.07871815,\n",
              "              -0.3711093 , -0.03184912, -0.02095588, -0.16419065, -0.15776743,\n",
              "               0.12264656, -0.12074842, -0.21538083,  0.08408391, -0.28290617,\n",
              "               0.1281246 ,  0.02600164,  0.23066323, -0.32674363,  0.21767816,\n",
              "              -0.15052447, -0.17894848,  0.27237955,  0.23051506,  0.07047625,\n",
              "              -0.01206726,  0.34635773,  0.07046106, -0.07056809,  0.05509373,\n",
              "              -0.13006933, -0.29108664,  0.0673525 , -0.20010865, -0.03796184,\n",
              "              -0.16900097], dtype=float32)                                    ,\n",
              "       ...,\n",
              "       array([-0.05327909, -0.07750843,  0.41913736, -0.05197714, -0.17704327,\n",
              "               0.09981927,  0.07144918, -0.08157069, -0.23966135, -0.03211128,\n",
              "               0.26462454,  0.14117526,  0.07385921,  0.01648655,  0.19982922,\n",
              "               0.05455269,  0.21659167,  0.21607535,  0.45629042, -0.4016755 ,\n",
              "               0.03382493, -0.1345195 , -0.13061105,  0.25453845,  0.06583447,\n",
              "              -0.13005613,  0.10177504, -0.27988505, -0.2393922 ,  0.3870526 ,\n",
              "              -0.3298828 ,  0.3490637 , -0.02463491, -0.08549785, -0.05991061,\n",
              "               0.2753756 , -0.2718901 , -0.07976788, -0.07075002,  0.24844608,\n",
              "               0.28668135,  0.17588325, -0.05204299, -0.33825842, -0.08589189,\n",
              "              -0.02043732,  0.27918804,  0.26030847, -0.00296144, -0.2848473 ,\n",
              "               0.11869619, -0.05643904, -0.00081475, -0.00249767, -0.07139167,\n",
              "               0.00738269, -0.15149558, -0.05811349, -0.04783836, -0.18387967,\n",
              "              -0.17083573, -0.06299028,  0.15162854, -0.08814166,  0.07987894,\n",
              "              -0.1459411 , -0.23979524, -0.05399697, -0.22872111, -0.10388296,\n",
              "               0.38386926, -0.36526906, -0.18215176,  0.10246314, -0.44954464,\n",
              "               0.2524534 ,  0.125286  ,  0.1977878 , -0.07363196,  0.12657253,\n",
              "              -0.2508967 , -0.34675092,  0.35163045,  0.2571216 , -0.21865588,\n",
              "              -0.28144574,  0.1338726 , -0.10872938, -0.01835626,  0.33941734,\n",
              "              -0.04424021, -0.20175362, -0.22763178, -0.11066113,  0.13816896,\n",
              "              -0.11032327], dtype=float32)                                    ,\n",
              "       array([ 7.91926384e-02, -7.69683672e-03,  9.24950838e-02, -1.76858250e-02,\n",
              "               7.73798525e-02, -1.20952889e-01,  1.13540307e-01, -1.62828222e-01,\n",
              "              -4.13925797e-02,  1.33278780e-02,  3.23367178e-01, -3.06913346e-01,\n",
              "              -6.81876391e-02, -3.93045321e-02,  1.75454058e-02,  1.44783124e-01,\n",
              "               7.26887817e-03,  1.14101239e-01, -1.72177013e-02, -2.15878859e-02,\n",
              "              -6.78741783e-02,  1.02443434e-01, -4.75619957e-02,  9.92200300e-02,\n",
              "               4.71258210e-03, -9.42567512e-02,  1.16906017e-01, -2.10153833e-01,\n",
              "              -3.45297724e-01,  2.99225479e-01, -1.57094985e-01,  2.27546632e-01,\n",
              "               3.79467867e-02,  5.03899120e-02, -2.13231817e-01,  1.19814172e-01,\n",
              "              -3.45789850e-01,  1.39712662e-01,  1.03626281e-01,  1.51598871e-01,\n",
              "               4.71288353e-01,  1.14231117e-01,  1.19047863e-02, -5.16637743e-01,\n",
              "              -3.39396372e-02,  4.46613841e-02,  2.38584712e-01,  2.00821176e-01,\n",
              "              -1.30747050e-01,  5.65681309e-02,  1.70229450e-01, -5.57027981e-02,\n",
              "              -1.33387789e-01, -7.14063793e-02,  5.59415575e-03, -5.80090024e-02,\n",
              "               1.29792795e-01,  8.45158324e-02,  1.24941289e-03, -5.22025581e-03,\n",
              "              -6.79997355e-03, -3.17639895e-02,  1.11550175e-01, -1.31873056e-01,\n",
              "              -2.22784892e-01, -1.12878986e-01, -4.93029952e-02, -1.80054456e-02,\n",
              "              -1.70499370e-01, -8.93268809e-02,  9.43330079e-02, -3.70483682e-03,\n",
              "              -5.54914027e-02, -5.41557456e-05, -2.71013021e-01,  5.91464788e-02,\n",
              "               2.03584414e-02,  3.67868811e-01, -7.17908219e-02,  1.10642448e-01,\n",
              "              -2.34156668e-01, -2.60740936e-01, -8.11574087e-02,  2.57246822e-01,\n",
              "              -5.60853370e-02, -2.51904756e-01,  2.57002562e-01,  1.72569886e-01,\n",
              "               3.06177214e-02,  2.83254087e-01, -6.53196312e-03, -2.37846017e-01,\n",
              "              -1.43310698e-02, -3.67839426e-01,  1.02404490e-01, -2.82072008e-01],\n",
              "             dtype=float32)                                                       ,\n",
              "       array([ 0.07362877,  0.06967165,  0.15910867,  0.06766468, -0.05240991,\n",
              "              -0.1150583 , -0.1462188 , -0.1512984 , -0.02816614,  0.12640534,\n",
              "               0.30284378, -0.11642049,  0.11509063, -0.11737248, -0.02588625,\n",
              "              -0.05386222,  0.04025084,  0.01320078, -0.22002618, -0.09434529,\n",
              "               0.13734372,  0.02190199, -0.06739116,  0.1616616 , -0.01859628,\n",
              "              -0.18702751, -0.03396599,  0.10794606, -0.28836638,  0.23201218,\n",
              "              -0.2626234 ,  0.2251269 , -0.09239725, -0.11808302, -0.00337701,\n",
              "               0.00188089, -0.13077487,  0.1289405 ,  0.04414682,  0.10443202,\n",
              "               0.36141238,  0.44031176, -0.04717769, -0.3788372 , -0.19329914,\n",
              "               0.01318706,  0.27861416,  0.24076787, -0.02043141,  0.03972526,\n",
              "               0.02908961,  0.01877502, -0.21472435, -0.18738993, -0.08894875,\n",
              "               0.01261442,  0.30997294, -0.09169229, -0.05722647, -0.07543735,\n",
              "              -0.14837883, -0.11550784,  0.09173691,  0.03997887, -0.02568956,\n",
              "              -0.19076255,  0.15060635,  0.0144112 , -0.21325898, -0.15695797,\n",
              "               0.14015192, -0.03969554, -0.02999073,  0.04883498, -0.5064256 ,\n",
              "               0.21937275, -0.01358658,  0.35882756, -0.06017325,  0.16839734,\n",
              "              -0.06230399, -0.18838127,  0.01499256,  0.18873237, -0.01874363,\n",
              "              -0.0232057 ,  0.2113869 , -0.04210241, -0.20947444,  0.23199987,\n",
              "              -0.12111429, -0.24076657,  0.08302531, -0.26721576,  0.10617871,\n",
              "              -0.16087143], dtype=float32)                                    ],\n",
              "      dtype=object)"
            ]
          },
          "metadata": {},
          "execution_count": 13
        }
      ]
    },
    {
      "cell_type": "code",
      "source": [
        "import numpy as np\n",
        "\n",
        "X_train_2d = np.stack(X_train)\n",
        "X_test_2d = np.stack(X_test)"
      ],
      "metadata": {
        "id": "P9C4O2yBTbvV"
      },
      "execution_count": 14,
      "outputs": []
    },
    {
      "cell_type": "code",
      "source": [
        "X_train_2d"
      ],
      "metadata": {
        "colab": {
          "base_uri": "https://localhost:8080/"
        },
        "id": "qwQyzkR-Tbx4",
        "outputId": "8eb2375e-65ad-4530-8dcd-50e54675510f"
      },
      "execution_count": 15,
      "outputs": [
        {
          "output_type": "execute_result",
          "data": {
            "text/plain": [
              "array([[ 1.17121331e-01,  2.30527297e-02,  1.70524776e-01, ...,\n",
              "        -2.65187830e-01,  1.26450941e-01, -3.76657367e-01],\n",
              "       [ 1.30501792e-01, -3.02265864e-04,  1.11475393e-01, ...,\n",
              "        -4.85373020e-01,  1.49339616e-01, -2.50930339e-01],\n",
              "       [ 1.25038728e-01, -4.24637906e-02,  5.44464774e-02, ...,\n",
              "        -2.00108647e-01, -3.79618369e-02, -1.69000968e-01],\n",
              "       ...,\n",
              "       [-5.32790944e-02, -7.75084272e-02,  4.19137359e-01, ...,\n",
              "        -1.10661134e-01,  1.38168961e-01, -1.10323273e-01],\n",
              "       [ 7.91926384e-02, -7.69683672e-03,  9.24950838e-02, ...,\n",
              "        -3.67839426e-01,  1.02404490e-01, -2.82072008e-01],\n",
              "       [ 7.36287683e-02,  6.96716532e-02,  1.59108669e-01, ...,\n",
              "        -2.67215759e-01,  1.06178708e-01, -1.60871431e-01]], dtype=float32)"
            ]
          },
          "metadata": {},
          "execution_count": 15
        }
      ]
    },
    {
      "cell_type": "code",
      "source": [
        "from sklearn.naive_bayes import MultinomialNB\n",
        "from sklearn.preprocessing import MinMaxScaler\n",
        "\n",
        "\n",
        "scaler = MinMaxScaler()\n",
        "scaled_train_embed = scaler.fit_transform(X_train_2d)\n",
        "scaled_test_embed = scaler.transform(X_test_2d)                ##scaling to fit negative values\n",
        "\n",
        "\n",
        "clf = MultinomialNB()\n",
        "clf.fit(scaled_train_embed, y_train)"
      ],
      "metadata": {
        "colab": {
          "base_uri": "https://localhost:8080/"
        },
        "id": "oUmzVqcwTb0w",
        "outputId": "ae794b9a-998c-4ce7-a075-32c1f33d8041"
      },
      "execution_count": 16,
      "outputs": [
        {
          "output_type": "execute_result",
          "data": {
            "text/plain": [
              "MultinomialNB()"
            ]
          },
          "metadata": {},
          "execution_count": 16
        }
      ]
    },
    {
      "cell_type": "code",
      "source": [
        "y_pred = clf.predict(scaled_test_embed)\n",
        "from sklearn.metrics import classification_report\n",
        "print(classification_report (y_test, y_pred))"
      ],
      "metadata": {
        "colab": {
          "base_uri": "https://localhost:8080/"
        },
        "id": "M9diru-kTb3X",
        "outputId": "6535f472-f3a7-4eb9-b2db-5fc1eabf8a1c"
      },
      "execution_count": 17,
      "outputs": [
        {
          "output_type": "stream",
          "name": "stdout",
          "text": [
            "              precision    recall  f1-score   support\n",
            "\n",
            "           0       0.62      0.60      0.61      5043\n",
            "           1       0.61      0.63      0.62      4957\n",
            "\n",
            "    accuracy                           0.62     10000\n",
            "   macro avg       0.62      0.62      0.62     10000\n",
            "weighted avg       0.62      0.62      0.62     10000\n",
            "\n"
          ]
        }
      ]
    },
    {
      "cell_type": "code",
      "source": [
        "from  sklearn.neighbors import KNeighborsClassifier\n",
        "clf = KNeighborsClassifier(n_neighbors = 5, metric = 'euclidean')\n",
        "clf.fit(X_train_2d, y_train)\n",
        "y_pred = clf.predict(X_test_2d)\n",
        "from sklearn.metrics import classification_report\n",
        "print(classification_report(y_test, y_pred))"
      ],
      "metadata": {
        "colab": {
          "base_uri": "https://localhost:8080/"
        },
        "id": "YIiUC41JTb58",
        "outputId": "b667742f-966a-4b84-e4a9-9061d77e1dd4"
      },
      "execution_count": 18,
      "outputs": [
        {
          "output_type": "stream",
          "name": "stdout",
          "text": [
            "              precision    recall  f1-score   support\n",
            "\n",
            "           0       0.62      0.67      0.64      5043\n",
            "           1       0.63      0.58      0.61      4957\n",
            "\n",
            "    accuracy                           0.63     10000\n",
            "   macro avg       0.63      0.63      0.62     10000\n",
            "weighted avg       0.63      0.63      0.63     10000\n",
            "\n"
          ]
        }
      ]
    },
    {
      "cell_type": "code",
      "source": [
        "from  sklearn.svm import SVC\n",
        "model=SVC(kernel=\"linear\")\n",
        "model.fit(X_train_2d, y_train)\n",
        "y_pred = model.predict(X_test_2d)\n",
        "\n",
        "from sklearn.metrics import classification_report\n",
        "print(classification_report(y_test, y_pred))"
      ],
      "metadata": {
        "colab": {
          "base_uri": "https://localhost:8080/"
        },
        "id": "U1YvTnUtlc_g",
        "outputId": "c68dfc1a-b90d-47a9-fbb1-8caaa66cc581"
      },
      "execution_count": 20,
      "outputs": [
        {
          "output_type": "stream",
          "name": "stdout",
          "text": [
            "              precision    recall  f1-score   support\n",
            "\n",
            "           0       0.71      0.69      0.70      5043\n",
            "           1       0.69      0.71      0.70      4957\n",
            "\n",
            "    accuracy                           0.70     10000\n",
            "   macro avg       0.70      0.70      0.70     10000\n",
            "weighted avg       0.70      0.70      0.70     10000\n",
            "\n"
          ]
        }
      ]
    },
    {
      "cell_type": "code",
      "source": [
        "from sklearn.metrics import confusion_matrix\n",
        "cm = confusion_matrix(y_test, y_pred)\n",
        "cm\n",
        "\n",
        "from matplotlib import pyplot as plt\n",
        "import seaborn as sn\n",
        "plt.figure(figsize = (10,7))\n",
        "sn.heatmap(cm, annot=True, fmt='d')\n",
        "plt.xlabel('Prediction')\n",
        "plt.ylabel('Truth')"
      ],
      "metadata": {
        "colab": {
          "base_uri": "https://localhost:8080/",
          "height": 463
        },
        "id": "YpgTq2jfTb8j",
        "outputId": "3f5ee80d-5fba-4399-f0c2-9c030330ec26"
      },
      "execution_count": 21,
      "outputs": [
        {
          "output_type": "execute_result",
          "data": {
            "text/plain": [
              "Text(69.0, 0.5, 'Truth')"
            ]
          },
          "metadata": {},
          "execution_count": 21
        },
        {
          "output_type": "display_data",
          "data": {
            "text/plain": [
              "<Figure size 720x504 with 2 Axes>"
            ],
            "image/png": "[encoded data removed]"
          },
          "metadata": {
            "needs_background": "light"
          }
        }
      ]
    },
    {
      "cell_type": "code",
      "source": [],
      "metadata": {
        "id": "y8GEI_rgTb_a"
      },
      "execution_count": null,
      "outputs": []
    },
    {
      "cell_type": "code",
      "source": [],
      "metadata": {
        "id": "o43Kii3TTcCI"
      },
      "execution_count": null,
      "outputs": []
    },
    {
      "cell_type": "code",
      "source": [],
      "metadata": {
        "id": "VcLNG0KvTcEr"
      },
      "execution_count": null,
      "outputs": []
    },
    {
      "cell_type": "code",
      "source": [],
      "metadata": {
        "id": "aIs7vmJLTcHQ"
      },
      "execution_count": null,
      "outputs": []
    },
    {
      "cell_type": "code",
      "source": [],
      "metadata": {
        "id": "VT2aRfG7TcJi"
      },
      "execution_count": null,
      "outputs": []
    },
    {
      "cell_type": "code",
      "source": [],
      "metadata": {
        "id": "cFS9QL28TcMA"
      },
      "execution_count": null,
      "outputs": []
    }
  ]
}