{
  "nbformat": 4,
  "nbformat_minor": 0,
  "metadata": {
    "colab": {
      "provenance": [],
      "collapsed_sections": [],
      "authorship_tag": "ABX9TyPrJXtMxOA5Jusxu+XrDJ3Q",
      "include_colab_link": true
    },
    "kernelspec": {
      "name": "python3",
      "display_name": "Python 3"
    },
    "language_info": {
      "name": "python"
    }
  },
  "cells": [
    {
      "cell_type": "markdown",
      "metadata": {
        "id": "view-in-github",
        "colab_type": "text"
      },
      "source": [
        "<a href=\"https://colab.research.google.com/github/vigneshlakshh/vigneshlakshh/blob/main/twitterv2.ipynb\" target=\"_parent\"><img src=\"https://colab.research.google.com/assets/colab-badge.svg\" alt=\"Open In Colab\"/></a>"
      ]
    },
    {
      "cell_type": "markdown",
      "source": [
        "**Binary Classification Using Twitter Dataset**\n",
        "\n",
        "\n",
        "\n"
      ],
      "metadata": {
        "id": "fnOVNxWGQ1u6"
      }
    },
    {
      "cell_type": "code",
      "execution_count": 24,
      "metadata": {
        "colab": {
          "base_uri": "https://localhost:8080/",
          "height": 223
        },
        "id": "-2dr_ObpuIoQ",
        "outputId": "310c6530-0f5a-457c-ecc2-891811ecec69"
      },
      "outputs": [
        {
          "output_type": "stream",
          "name": "stdout",
          "text": [
            "(31962, 3)\n"
          ]
        },
        {
          "output_type": "execute_result",
          "data": {
            "text/plain": [
              "   id  label                                              tweet\n",
              "0   1      0   @user when a father is dysfunctional and is s...\n",
              "1   2      0  @user @user thanks for #lyft credit i can't us...\n",
              "2   3      0                                bihday your majesty\n",
              "3   4      0  #model   i love u take with u all the time in ...\n",
              "4   5      0             factsguide: society now    #motivation"
            ],
            "text/html": [
              "\n",
              "  <div id=\"df-9bf03573-5946-45fd-a262-b92c4780bfa3\">\n",
              "    <div class=\"colab-df-container\">\n",
              "      <div>\n",
              "<style scoped>\n",
              "    .dataframe tbody tr th:only-of-type {\n",
              "        vertical-align: middle;\n",
              "    }\n",
              "\n",
              "    .dataframe tbody tr th {\n",
              "        vertical-align: top;\n",
              "    }\n",
              "\n",
              "    .dataframe thead th {\n",
              "        text-align: right;\n",
              "    }\n",
              "</style>\n",
              "<table border=\"1\" class=\"dataframe\">\n",
              "  <thead>\n",
              "    <tr style=\"text-align: right;\">\n",
              "      <th></th>\n",
              "      <th>id</th>\n",
              "      <th>label</th>\n",
              "      <th>tweet</th>\n",
              "    </tr>\n",
              "  </thead>\n",
              "  <tbody>\n",
              "    <tr>\n",
              "      <th>0</th>\n",
              "      <td>1</td>\n",
              "      <td>0</td>\n",
              "      <td>@user when a father is dysfunctional and is s...</td>\n",
              "    </tr>\n",
              "    <tr>\n",
              "      <th>1</th>\n",
              "      <td>2</td>\n",
              "      <td>0</td>\n",
              "      <td>@user @user thanks for #lyft credit i can't us...</td>\n",
              "    </tr>\n",
              "    <tr>\n",
              "      <th>2</th>\n",
              "      <td>3</td>\n",
              "      <td>0</td>\n",
              "      <td>bihday your majesty</td>\n",
              "    </tr>\n",
              "    <tr>\n",
              "      <th>3</th>\n",
              "      <td>4</td>\n",
              "      <td>0</td>\n",
              "      <td>#model   i love u take with u all the time in ...</td>\n",
              "    </tr>\n",
              "    <tr>\n",
              "      <th>4</th>\n",
              "      <td>5</td>\n",
              "      <td>0</td>\n",
              "      <td>factsguide: society now    #motivation</td>\n",
              "    </tr>\n",
              "  </tbody>\n",
              "</table>\n",
              "</div>\n",
              "      <button class=\"colab-df-convert\" onclick=\"convertToInteractive('df-9bf03573-5946-45fd-a262-b92c4780bfa3')\"\n",
              "              title=\"Convert this dataframe to an interactive table.\"\n",
              "              style=\"display:none;\">\n",
              "        \n",
              "  <svg xmlns=\"http://www.w3.org/2000/svg\" height=\"24px\"viewBox=\"0 0 24 24\"\n",
              "       width=\"24px\">\n",
              "    <path d=\"M0 0h24v24H0V0z\" fill=\"none\"/>\n",
              "    <path d=\"M18.56 5.44l.94 2.06.94-2.06 2.06-.94-2.06-.94-.94-2.06-.94 2.06-2.06.94zm-11 1L8.5 8.5l.94-2.06 2.06-.94-2.06-.94L8.5 2.5l-.94 2.06-2.06.94zm10 10l.94 2.06.94-2.06 2.06-.94-2.06-.94-.94-2.06-.94 2.06-2.06.94z\"/><path d=\"M17.41 7.96l-1.37-1.37c-.4-.4-.92-.59-1.43-.59-.52 0-1.04.2-1.43.59L10.3 9.45l-7.72 7.72c-.78.78-.78 2.05 0 2.83L4 21.41c.39.39.9.59 1.41.59.51 0 1.02-.2 1.41-.59l7.78-7.78 2.81-2.81c.8-.78.8-2.07 0-2.86zM5.41 20L4 18.59l7.72-7.72 1.47 1.35L5.41 20z\"/>\n",
              "  </svg>\n",
              "      </button>\n",
              "      \n",
              "  <style>\n",
              "    .colab-df-container {\n",
              "      display:flex;\n",
              "      flex-wrap:wrap;\n",
              "      gap: 12px;\n",
              "    }\n",
              "\n",
              "    .colab-df-convert {\n",
              "      background-color: #E8F0FE;\n",
              "      border: none;\n",
              "      border-radius: 50%;\n",
              "      cursor: pointer;\n",
              "      display: none;\n",
              "      fill: #1967D2;\n",
              "      height: 32px;\n",
              "      padding: 0 0 0 0;\n",
              "      width: 32px;\n",
              "    }\n",
              "\n",
              "    .colab-df-convert:hover {\n",
              "      background-color: #E2EBFA;\n",
              "      box-shadow: 0px 1px 2px rgba(60, 64, 67, 0.3), 0px 1px 3px 1px rgba(60, 64, 67, 0.15);\n",
              "      fill: #174EA6;\n",
              "    }\n",
              "\n",
              "    [theme=dark] .colab-df-convert {\n",
              "      background-color: #3B4455;\n",
              "      fill: #D2E3FC;\n",
              "    }\n",
              "\n",
              "    [theme=dark] .colab-df-convert:hover {\n",
              "      background-color: #434B5C;\n",
              "      box-shadow: 0px 1px 3px 1px rgba(0, 0, 0, 0.15);\n",
              "      filter: drop-shadow(0px 1px 2px rgba(0, 0, 0, 0.3));\n",
              "      fill: #FFFFFF;\n",
              "    }\n",
              "  </style>\n",
              "\n",
              "      <script>\n",
              "        const buttonEl =\n",
              "          document.querySelector('#df-9bf03573-5946-45fd-a262-b92c4780bfa3 button.colab-df-convert');\n",
              "        buttonEl.style.display =\n",
              "          google.colab.kernel.accessAllowed ? 'block' : 'none';\n",
              "\n",
              "        async function convertToInteractive(key) {\n",
              "          const element = document.querySelector('#df-9bf03573-5946-45fd-a262-b92c4780bfa3');\n",
              "          const dataTable =\n",
              "            await google.colab.kernel.invokeFunction('convertToInteractive',\n",
              "                                                     [key], {});\n",
              "          if (!dataTable) return;\n",
              "\n",
              "          const docLinkHtml = 'Like what you see? Visit the ' +\n",
              "            '<a target=\"_blank\" href=https://colab.research.google.com/notebooks/data_table.ipynb>data table notebook</a>'\n",
              "            + ' to learn more about interactive tables.';\n",
              "          element.innerHTML = '';\n",
              "          dataTable['output_type'] = 'display_data';\n",
              "          await google.colab.output.renderOutput(dataTable, element);\n",
              "          const docLink = document.createElement('div');\n",
              "          docLink.innerHTML = docLinkHtml;\n",
              "          element.appendChild(docLink);\n",
              "        }\n",
              "      </script>\n",
              "    </div>\n",
              "  </div>\n",
              "  "
            ]
          },
          "metadata": {},
          "execution_count": 24
        }
      ],
      "source": [
        "import pandas as pd\n",
        "df = pd.read_csv(\"train_tweets.csv\")\n",
        "print(df.shape)\n",
        "df.head(5)\n"
      ]
    },
    {
      "cell_type": "code",
      "source": [
        "df['label'].value_counts()  #class Imbalance Problem"
      ],
      "metadata": {
        "colab": {
          "base_uri": "https://localhost:8080/"
        },
        "id": "YW1byKOEuq6X",
        "outputId": "4771f841-8649-45da-80d5-6f4816ddf57b"
      },
      "execution_count": 25,
      "outputs": [
        {
          "output_type": "execute_result",
          "data": {
            "text/plain": [
              "0    29720\n",
              "1     2242\n",
              "Name: label, dtype: int64"
            ]
          },
          "metadata": {},
          "execution_count": 25
        }
      ]
    },
    {
      "cell_type": "code",
      "source": [
        "import spacy\n",
        "import en_core_web_sm\n",
        "nlp = spacy.load(\"en_core_web_sm\")"
      ],
      "metadata": {
        "id": "4PksNKCGurv_"
      },
      "execution_count": 26,
      "outputs": []
    },
    {
      "cell_type": "code",
      "source": [
        "df['vector'] = df['tweet'].apply(lambda tweet: nlp(tweet).vector)   #converting to word vectors"
      ],
      "metadata": {
        "id": "yzOk9b1SusI9"
      },
      "execution_count": 27,
      "outputs": []
    },
    {
      "cell_type": "code",
      "source": [
        "df.head()"
      ],
      "metadata": {
        "colab": {
          "base_uri": "https://localhost:8080/",
          "height": 206
        },
        "id": "Xhcv9bME3jO0",
        "outputId": "e85a73d3-022b-4541-c9fb-d699d275b397"
      },
      "execution_count": 28,
      "outputs": [
        {
          "output_type": "execute_result",
          "data": {
            "text/plain": [
              "   id  label                                              tweet  \\\n",
              "0   1      0   @user when a father is dysfunctional and is s...   \n",
              "1   2      0  @user @user thanks for #lyft credit i can't us...   \n",
              "2   3      0                                bihday your majesty   \n",
              "3   4      0  #model   i love u take with u all the time in ...   \n",
              "4   5      0             factsguide: society now    #motivation   \n",
              "\n",
              "                                              vector  \n",
              "0  [0.3674951, -0.03180114, 0.024350673, -0.18112...  \n",
              "1  [0.23307125, 0.3111073, 0.06079278, -0.2954473...  \n",
              "2  [0.3480823, -0.13080284, 0.06577067, 0.4119443...  \n",
              "3  [0.2602855, 0.3505139, 0.14023858, -0.2120796,...  \n",
              "4  [0.61038417, 0.24175006, -0.2700962, -0.265596...  "
            ],
            "text/html": [
              "\n",
              "  <div id=\"df-77e3b5b2-3540-43c0-b952-420e19acd4b0\">\n",
              "    <div class=\"colab-df-container\">\n",
              "      <div>\n",
              "<style scoped>\n",
              "    .dataframe tbody tr th:only-of-type {\n",
              "        vertical-align: middle;\n",
              "    }\n",
              "\n",
              "    .dataframe tbody tr th {\n",
              "        vertical-align: top;\n",
              "    }\n",
              "\n",
              "    .dataframe thead th {\n",
              "        text-align: right;\n",
              "    }\n",
              "</style>\n",
              "<table border=\"1\" class=\"dataframe\">\n",
              "  <thead>\n",
              "    <tr style=\"text-align: right;\">\n",
              "      <th></th>\n",
              "      <th>id</th>\n",
              "      <th>label</th>\n",
              "      <th>tweet</th>\n",
              "      <th>vector</th>\n",
              "    </tr>\n",
              "  </thead>\n",
              "  <tbody>\n",
              "    <tr>\n",
              "      <th>0</th>\n",
              "      <td>1</td>\n",
              "      <td>0</td>\n",
              "      <td>@user when a father is dysfunctional and is s...</td>\n",
              "      <td>[0.3674951, -0.03180114, 0.024350673, -0.18112...</td>\n",
              "    </tr>\n",
              "    <tr>\n",
              "      <th>1</th>\n",
              "      <td>2</td>\n",
              "      <td>0</td>\n",
              "      <td>@user @user thanks for #lyft credit i can't us...</td>\n",
              "      <td>[0.23307125, 0.3111073, 0.06079278, -0.2954473...</td>\n",
              "    </tr>\n",
              "    <tr>\n",
              "      <th>2</th>\n",
              "      <td>3</td>\n",
              "      <td>0</td>\n",
              "      <td>bihday your majesty</td>\n",
              "      <td>[0.3480823, -0.13080284, 0.06577067, 0.4119443...</td>\n",
              "    </tr>\n",
              "    <tr>\n",
              "      <th>3</th>\n",
              "      <td>4</td>\n",
              "      <td>0</td>\n",
              "      <td>#model   i love u take with u all the time in ...</td>\n",
              "      <td>[0.2602855, 0.3505139, 0.14023858, -0.2120796,...</td>\n",
              "    </tr>\n",
              "    <tr>\n",
              "      <th>4</th>\n",
              "      <td>5</td>\n",
              "      <td>0</td>\n",
              "      <td>factsguide: society now    #motivation</td>\n",
              "      <td>[0.61038417, 0.24175006, -0.2700962, -0.265596...</td>\n",
              "    </tr>\n",
              "  </tbody>\n",
              "</table>\n",
              "</div>\n",
              "      <button class=\"colab-df-convert\" onclick=\"convertToInteractive('df-77e3b5b2-3540-43c0-b952-420e19acd4b0')\"\n",
              "              title=\"Convert this dataframe to an interactive table.\"\n",
              "              style=\"display:none;\">\n",
              "        \n",
              "  <svg xmlns=\"http://www.w3.org/2000/svg\" height=\"24px\"viewBox=\"0 0 24 24\"\n",
              "       width=\"24px\">\n",
              "    <path d=\"M0 0h24v24H0V0z\" fill=\"none\"/>\n",
              "    <path d=\"M18.56 5.44l.94 2.06.94-2.06 2.06-.94-2.06-.94-.94-2.06-.94 2.06-2.06.94zm-11 1L8.5 8.5l.94-2.06 2.06-.94-2.06-.94L8.5 2.5l-.94 2.06-2.06.94zm10 10l.94 2.06.94-2.06 2.06-.94-2.06-.94-.94-2.06-.94 2.06-2.06.94z\"/><path d=\"M17.41 7.96l-1.37-1.37c-.4-.4-.92-.59-1.43-.59-.52 0-1.04.2-1.43.59L10.3 9.45l-7.72 7.72c-.78.78-.78 2.05 0 2.83L4 21.41c.39.39.9.59 1.41.59.51 0 1.02-.2 1.41-.59l7.78-7.78 2.81-2.81c.8-.78.8-2.07 0-2.86zM5.41 20L4 18.59l7.72-7.72 1.47 1.35L5.41 20z\"/>\n",
              "  </svg>\n",
              "      </button>\n",
              "      \n",
              "  <style>\n",
              "    .colab-df-container {\n",
              "      display:flex;\n",
              "      flex-wrap:wrap;\n",
              "      gap: 12px;\n",
              "    }\n",
              "\n",
              "    .colab-df-convert {\n",
              "      background-color: #E8F0FE;\n",
              "      border: none;\n",
              "      border-radius: 50%;\n",
              "      cursor: pointer;\n",
              "      display: none;\n",
              "      fill: #1967D2;\n",
              "      height: 32px;\n",
              "      padding: 0 0 0 0;\n",
              "      width: 32px;\n",
              "    }\n",
              "\n",
              "    .colab-df-convert:hover {\n",
              "      background-color: #E2EBFA;\n",
              "      box-shadow: 0px 1px 2px rgba(60, 64, 67, 0.3), 0px 1px 3px 1px rgba(60, 64, 67, 0.15);\n",
              "      fill: #174EA6;\n",
              "    }\n",
              "\n",
              "    [theme=dark] .colab-df-convert {\n",
              "      background-color: #3B4455;\n",
              "      fill: #D2E3FC;\n",
              "    }\n",
              "\n",
              "    [theme=dark] .colab-df-convert:hover {\n",
              "      background-color: #434B5C;\n",
              "      box-shadow: 0px 1px 3px 1px rgba(0, 0, 0, 0.15);\n",
              "      filter: drop-shadow(0px 1px 2px rgba(0, 0, 0, 0.3));\n",
              "      fill: #FFFFFF;\n",
              "    }\n",
              "  </style>\n",
              "\n",
              "      <script>\n",
              "        const buttonEl =\n",
              "          document.querySelector('#df-77e3b5b2-3540-43c0-b952-420e19acd4b0 button.colab-df-convert');\n",
              "        buttonEl.style.display =\n",
              "          google.colab.kernel.accessAllowed ? 'block' : 'none';\n",
              "\n",
              "        async function convertToInteractive(key) {\n",
              "          const element = document.querySelector('#df-77e3b5b2-3540-43c0-b952-420e19acd4b0');\n",
              "          const dataTable =\n",
              "            await google.colab.kernel.invokeFunction('convertToInteractive',\n",
              "                                                     [key], {});\n",
              "          if (!dataTable) return;\n",
              "\n",
              "          const docLinkHtml = 'Like what you see? Visit the ' +\n",
              "            '<a target=\"_blank\" href=https://colab.research.google.com/notebooks/data_table.ipynb>data table notebook</a>'\n",
              "            + ' to learn more about interactive tables.';\n",
              "          element.innerHTML = '';\n",
              "          dataTable['output_type'] = 'display_data';\n",
              "          await google.colab.output.renderOutput(dataTable, element);\n",
              "          const docLink = document.createElement('div');\n",
              "          docLink.innerHTML = docLinkHtml;\n",
              "          element.appendChild(docLink);\n",
              "        }\n",
              "      </script>\n",
              "    </div>\n",
              "  </div>\n",
              "  "
            ]
          },
          "metadata": {},
          "execution_count": 28
        }
      ]
    },
    {
      "cell_type": "code",
      "source": [
        "from sklearn.model_selection import train_test_split   \n",
        "\n",
        "X_train, X_test, y_train, y_test = train_test_split(\n",
        "    df.vector.values,\n",
        "    df.label,\n",
        "    test_size=0.2,\n",
        "    random_state=2022\n",
        ")  #Using 80/20 Split"
      ],
      "metadata": {
        "id": "eGL9L2mU6QY5"
      },
      "execution_count": 39,
      "outputs": []
    },
    {
      "cell_type": "code",
      "source": [
        "X_train.shape"
      ],
      "metadata": {
        "colab": {
          "base_uri": "https://localhost:8080/"
        },
        "id": "a0GeXIBSRc1u",
        "outputId": "80c38d5d-df25-4a82-e9f5-7b3f1365eaa1"
      },
      "execution_count": 30,
      "outputs": [
        {
          "output_type": "execute_result",
          "data": {
            "text/plain": [
              "(25569,)"
            ]
          },
          "metadata": {},
          "execution_count": 30
        }
      ]
    },
    {
      "cell_type": "code",
      "source": [
        "X_test.shape"
      ],
      "metadata": {
        "colab": {
          "base_uri": "https://localhost:8080/"
        },
        "id": "ZezyjDIARdzW",
        "outputId": "fcfad5d8-4b05-4896-e620-e5e8ba3f54ef"
      },
      "execution_count": 31,
      "outputs": [
        {
          "output_type": "execute_result",
          "data": {
            "text/plain": [
              "(6393,)"
            ]
          },
          "metadata": {},
          "execution_count": 31
        }
      ]
    },
    {
      "cell_type": "code",
      "source": [
        "X_train  #numpy array[numpp array]"
      ],
      "metadata": {
        "colab": {
          "base_uri": "https://localhost:8080/"
        },
        "id": "DxT7la_wRqHw",
        "outputId": "204099fd-5f65-4673-a86b-634ed2be14a5"
      },
      "execution_count": 32,
      "outputs": [
        {
          "output_type": "execute_result",
          "data": {
            "text/plain": [
              "array([array([ 3.22558463e-01, -1.17277980e-01,  1.26811966e-01, -2.60251164e-01,\n",
              "              -2.71721721e-01,  4.28155422e-01,  7.49485612e-01,  8.76033381e-02,\n",
              "               2.17697382e-01, -2.13242605e-01,  7.33557343e-02,  4.61697392e-03,\n",
              "              -2.68352807e-01, -2.01983333e-01,  1.49291724e-01,  1.44533709e-01,\n",
              "               6.65193081e-01, -9.07505024e-03,  9.70265090e-01, -5.02444446e-01,\n",
              "               3.56804758e-01, -1.83513775e-01,  2.89625023e-02,  2.30032459e-01,\n",
              "               8.20633173e-02,  5.52534401e-01,  1.17836051e-01,  1.10106973e-03,\n",
              "              -5.79832971e-01, -1.62090063e-01, -4.99912687e-02,  8.97240639e-01,\n",
              "              -3.94324094e-01, -1.43488199e-01, -4.77855086e-01,  4.37922806e-01,\n",
              "              -2.03296587e-01, -2.44831413e-01, -2.78741360e-01,  1.43230513e-01,\n",
              "               2.64797360e-01,  3.37168455e-01, -1.22578414e-02, -3.06479514e-01,\n",
              "              -8.90882760e-02, -1.50175780e-01, -1.25377864e-01,  4.43920285e-01,\n",
              "              -1.78929374e-01, -2.68556327e-01,  9.96228606e-02, -3.22483867e-01,\n",
              "              -3.02638531e-01, -3.85613769e-01, -3.55854601e-01,  2.33576149e-02,\n",
              "               3.16105820e-02,  1.88384578e-01, -1.57128096e-01, -1.15826242e-01,\n",
              "              -2.19615668e-01, -2.67597407e-01, -1.12610035e-01, -1.74454540e-01,\n",
              "              -3.05987567e-01, -8.23394656e-02, -4.26653594e-01,  9.64144692e-02,\n",
              "              -4.63883102e-01,  7.18193874e-02, -5.45786731e-02, -2.36632109e-01,\n",
              "              -3.95279117e-02, -2.62904614e-01,  3.12120765e-01, -1.96713212e-04,\n",
              "               2.52502948e-01,  2.00081221e-03, -2.35350549e-01,  4.18936402e-01,\n",
              "               1.70270782e-02, -5.75642996e-02,  9.21518579e-02,  3.57085258e-01,\n",
              "              -5.45121450e-03, -2.27381155e-01, -3.48932929e-02, -2.33773608e-02,\n",
              "              -3.12209159e-01,  1.24361500e-01,  2.09723875e-01, -1.56230256e-01,\n",
              "               4.94543537e-02,  1.23573333e-01,  9.37718302e-02,  1.28651887e-01],\n",
              "             dtype=float32)                                                       ,\n",
              "       array([ 0.50350285, -0.321476  , -0.20036872,  0.694405  ,  0.06438981,\n",
              "               0.3996343 ,  0.05826546, -0.35021105,  0.50337553, -0.09217848,\n",
              "              -0.16898018,  0.43354276,  0.84342945, -0.47619855, -0.16566092,\n",
              "              -0.11486848,  0.5131241 , -0.5204055 ,  0.11355664,  0.14783011,\n",
              "              -0.26248947, -0.3179286 , -0.4132029 , -0.59212166, -0.36809212,\n",
              "               0.05713657,  0.0308806 ,  0.03767864, -0.16314137,  0.38575348,\n",
              "               0.1345163 ,  0.8569255 , -0.241058  , -0.30556336,  0.0557537 ,\n",
              "              -0.19706348, -0.20173684, -0.24525584, -0.05262796,  0.06105138,\n",
              "               0.5328622 ,  0.51360667,  0.03815323, -0.7587904 ,  0.19908513,\n",
              "              -0.14937481,  0.39292264,  0.2939365 , -0.674689  , -0.6174634 ,\n",
              "               0.48844317,  0.06777689, -0.5404344 , -0.15045132, -0.45246124,\n",
              "               0.2480797 , -0.13508208,  0.01612012,  0.42702237,  0.09131807,\n",
              "               0.01953761, -0.31599206, -0.19630928, -0.12968716, -0.12066791,\n",
              "              -0.1444924 , -0.27231002, -0.21547382, -0.32686478, -0.5224977 ,\n",
              "               0.38046032, -0.03348779, -0.5009514 , -0.3842947 ,  0.07111888,\n",
              "               0.73308516,  0.36551628,  0.01769326, -0.01695129,  0.3709425 ,\n",
              "               0.47454497,  0.30175513,  0.10370607,  0.22958276,  0.16923407,\n",
              "               0.24629052,  0.34875542, -0.41270986, -0.39475438, -0.3774271 ,\n",
              "              -0.24532285,  0.0395074 ,  0.28430808,  0.34703344,  0.42356598,\n",
              "              -0.4621856 ], dtype=float32)                                    ,\n",
              "       array([ 0.32011202, -0.00871058,  0.12701899, -0.49826443, -0.20667002,\n",
              "              -0.04410974,  0.30315083, -0.13072844,  0.13542983, -0.06101691,\n",
              "               0.30893838,  0.1594689 ,  0.25048763, -0.02058148,  0.02091525,\n",
              "              -0.26037058,  0.03703562,  0.38476238,  1.0318539 ,  0.09416042,\n",
              "              -0.4058274 ,  0.09574782, -0.32302782,  0.08855539, -0.4563573 ,\n",
              "               0.40039647,  0.18025342, -0.07211134, -0.11541484, -0.33541045,\n",
              "              -0.18667693,  0.90043694, -0.44274256, -0.5039407 , -0.1734601 ,\n",
              "               0.00265333, -0.66064745, -0.3550467 , -0.3159609 , -0.08427855,\n",
              "               0.33873892,  0.42762205, -0.13065521, -0.67026836, -0.13313422,\n",
              "              -0.3975636 ,  0.3606397 ,  0.6722497 , -0.45330748, -0.19018981,\n",
              "               0.210161  ,  0.19160338, -0.26334485,  0.12565461, -0.27864408,\n",
              "               0.35746616, -0.07548293,  0.03899984,  0.53595954, -0.44295457,\n",
              "               0.22550684,  0.16139354,  0.12042887,  0.23358513, -0.5166182 ,\n",
              "               0.16774087,  0.29308483, -0.3313688 , -0.32470247, -0.0288603 ,\n",
              "               0.09737387, -0.45359427,  0.20467676, -0.15541525,  0.18358782,\n",
              "              -0.11490575,  0.23718628,  0.00168879, -0.1823384 ,  0.40913504,\n",
              "               0.67978513,  0.42367142, -0.16541004,  0.24098577,  0.33528653,\n",
              "              -0.10653544,  0.16789809,  0.01943997,  0.01370313,  0.16456276,\n",
              "              -0.34104794, -0.5384061 , -0.09192873,  0.69469935,  0.14419274,\n",
              "              -0.38433895], dtype=float32)                                    ,\n",
              "       ...,\n",
              "       array([ 0.9549934 ,  0.24891225,  0.36335814, -0.1320938 , -0.0629883 ,\n",
              "               0.65157425, -0.36461028, -0.10036314,  0.7224549 ,  0.24073294,\n",
              "               0.1073518 ,  0.16969866,  0.27375513, -0.14670071, -0.19542818,\n",
              "               0.03234058, -0.10458384, -0.10657563, -0.42747536, -0.1343465 ,\n",
              "               0.33951244,  0.00650998,  0.07821695,  0.53256524,  0.3780238 ,\n",
              "               0.19061232,  0.02131035,  1.0903172 ,  0.4189481 ,  0.38436192,\n",
              "              -0.35031828,  0.56532156, -0.61494815, -0.15962592, -0.250923  ,\n",
              "               0.43923157,  0.2658184 , -0.31901425, -0.3301715 ,  0.17909837,\n",
              "               0.335248  ,  0.02242274, -0.62522197, -0.4019673 , -0.6707183 ,\n",
              "              -0.43581814,  0.5535065 , -0.02069571, -0.35187787,  0.49122968,\n",
              "              -0.45701495, -0.32576996, -0.03403392, -1.2796428 , -0.5674982 ,\n",
              "              -0.16518025, -0.21190822, -0.55410063, -0.21848114, -0.32700214,\n",
              "               0.40961677, -0.0431935 , -0.24306388,  0.38806173,  0.06092627,\n",
              "               0.4838218 ,  0.13688537,  0.31279102, -0.8011953 , -0.3969365 ,\n",
              "               0.8285181 ,  0.26971632, -0.00986487,  0.2719295 ,  0.1911346 ,\n",
              "               0.54179585, -0.1307824 ,  0.36872306, -0.7591559 ,  0.25195223,\n",
              "               0.5901718 , -0.373699  ,  0.16977508, -0.58703476,  0.16239443,\n",
              "               0.13718034,  0.46787748, -0.10440214, -0.53113145, -0.62039155,\n",
              "              -0.46730965, -0.7005588 ,  0.1543991 ,  0.4993716 ,  0.33118638,\n",
              "              -0.08990987], dtype=float32)                                    ,\n",
              "       array([ 0.5346471 ,  0.04319641, -0.4407041 , -0.01445467,  0.03992857,\n",
              "               0.9813144 , -0.42031655, -0.13651155,  0.54080135, -0.2900315 ,\n",
              "              -0.04426304,  0.5541089 , -0.0973667 , -0.67287964, -0.14361921,\n",
              "               0.11765537, -0.13699913, -0.03167047,  0.1406514 ,  0.45087957,\n",
              "              -0.0974668 , -0.34161702, -0.05388701, -0.29107338, -0.22537036,\n",
              "              -0.18775578, -0.12500723,  0.02469743, -0.53461486, -0.3278744 ,\n",
              "               0.34390315,  0.9280045 , -0.4390992 , -0.94172287, -0.25021034,\n",
              "               0.36718127, -0.23300941, -0.10061437, -0.25706878,  0.11592247,\n",
              "               0.715475  ,  0.64437   ,  0.12322328, -0.6954188 ,  0.1395108 ,\n",
              "              -0.453125  ,  0.10630514,  0.62909764, -0.6302652 , -0.3751339 ,\n",
              "              -0.03867196,  0.04820967, -0.32899576,  0.13162266, -0.17955321,\n",
              "               0.23129977, -0.4059026 , -0.34941554,  0.54058975, -0.00844588,\n",
              "               0.10960255,  0.13882671,  0.01992058,  0.3203749 , -0.26951468,\n",
              "               0.14613901, -0.06355455, -0.2300479 , -0.38562378,  0.02149019,\n",
              "               0.5557533 ,  0.41209865, -0.6681095 , -0.23371507,  0.07549308,\n",
              "               0.39386392,  0.4040396 , -0.00195324,  0.2414816 ,  0.28442213,\n",
              "               0.8820069 ,  0.5642578 ,  0.18251769, -0.1869471 , -0.03360455,\n",
              "               0.25323844,  0.03230147, -0.27249682, -0.6101536 , -0.57582146,\n",
              "              -0.01571263,  0.10977215, -0.13188447,  1.7289006 ,  0.4858577 ,\n",
              "               0.12171689], dtype=float32)                                    ,\n",
              "       array([ 0.1195332 , -0.00211951, -0.19224732, -0.12923034,  0.10515554,\n",
              "              -0.13709104,  0.06743   , -0.06338893,  0.36458114, -0.2184906 ,\n",
              "               0.26012912,  0.17458227,  0.27784067, -0.1586232 , -0.10528231,\n",
              "              -0.09979029,  0.23021457, -0.0724318 , -0.1530527 , -0.12959673,\n",
              "              -0.02060121,  0.15296271, -0.35006067, -0.5467401 ,  0.2133692 ,\n",
              "               0.6109438 ,  0.38764468,  0.00206131,  0.03085535,  0.56430966,\n",
              "              -0.17756553,  0.6938477 , -0.39851716,  0.14973783, -0.20195743,\n",
              "               0.33597484, -0.38056508, -0.42426348,  0.25239486,  0.13475557,\n",
              "               0.17310822,  0.27525273,  0.2523648 , -0.6836961 , -0.003427  ,\n",
              "              -0.13612212,  0.09399519,  0.10489122, -0.42403442, -0.19274105,\n",
              "               0.11703772,  0.28275615, -0.1594589 ,  0.20230998, -0.26499298,\n",
              "              -0.04132086,  0.00468206,  0.01276399,  0.25634193,  0.09600014,\n",
              "              -0.17409086, -0.09001838, -0.20565148, -0.03488725, -0.53346103,\n",
              "              -0.02027445, -0.23392235,  0.14436932, -0.09503726, -0.6532118 ,\n",
              "               0.30857033, -0.27561182, -0.32521486, -0.22500917,  0.16048992,\n",
              "               0.19563423,  0.2730533 ,  0.08609261,  0.00219793,  0.65751415,\n",
              "               0.1967293 , -0.43936798, -0.00773166,  0.39358664, -0.24273832,\n",
              "              -0.11981244,  0.3920906 ,  0.08903245, -0.17392243,  0.10058405,\n",
              "              -0.01214311, -0.14624153, -0.11990846, -0.02313359,  0.05527056,\n",
              "              -0.17837325], dtype=float32)                                    ],\n",
              "      dtype=object)"
            ]
          },
          "metadata": {},
          "execution_count": 32
        }
      ]
    },
    {
      "cell_type": "code",
      "source": [
        "import numpy as np\n",
        "\n",
        "X_train_2d = np.stack(X_train)\n",
        "X_test_2d = np.stack(X_test)"
      ],
      "metadata": {
        "id": "jRP4urta6QyE"
      },
      "execution_count": 33,
      "outputs": []
    },
    {
      "cell_type": "code",
      "source": [
        "X_train_2d #after converting "
      ],
      "metadata": {
        "colab": {
          "base_uri": "https://localhost:8080/"
        },
        "id": "5z8yU3nCR6tG",
        "outputId": "a81aa052-427a-410e-8ad2-8a2ed51acd24"
      },
      "execution_count": 34,
      "outputs": [
        {
          "output_type": "execute_result",
          "data": {
            "text/plain": [
              "array([[ 0.32255846, -0.11727798,  0.12681197, ...,  0.12357333,\n",
              "         0.09377183,  0.12865189],\n",
              "       [ 0.50350285, -0.321476  , -0.20036872, ...,  0.34703344,\n",
              "         0.42356598, -0.4621856 ],\n",
              "       [ 0.32011202, -0.00871058,  0.12701899, ...,  0.69469935,\n",
              "         0.14419274, -0.38433895],\n",
              "       ...,\n",
              "       [ 0.9549934 ,  0.24891225,  0.36335814, ...,  0.4993716 ,\n",
              "         0.33118638, -0.08990987],\n",
              "       [ 0.5346471 ,  0.04319641, -0.4407041 , ...,  1.7289006 ,\n",
              "         0.4858577 ,  0.12171689],\n",
              "       [ 0.1195332 , -0.00211951, -0.19224732, ..., -0.02313359,\n",
              "         0.05527056, -0.17837325]], dtype=float32)"
            ]
          },
          "metadata": {},
          "execution_count": 34
        }
      ]
    },
    {
      "cell_type": "markdown",
      "source": [
        "**1.MultinomialNB**"
      ],
      "metadata": {
        "id": "1aGmanh1S3l7"
      }
    },
    {
      "cell_type": "code",
      "source": [
        "from sklearn.naive_bayes import MultinomialNB\n",
        "from sklearn.preprocessing import MinMaxScaler\n",
        "\n",
        "\n",
        "scaler = MinMaxScaler()\n",
        "scaled_train_embed = scaler.fit_transform(X_train_2d)\n",
        "scaled_test_embed = scaler.transform(X_test_2d)                ##scaling to fit negative values\n",
        "\n",
        "\n",
        "clf = MultinomialNB()\n",
        "clf.fit(scaled_train_embed, y_train)"
      ],
      "metadata": {
        "colab": {
          "base_uri": "https://localhost:8080/"
        },
        "id": "vdzSGNUe6REa",
        "outputId": "c4ef503d-6809-4b6e-ac55-b2cdad032cdf"
      },
      "execution_count": 35,
      "outputs": [
        {
          "output_type": "execute_result",
          "data": {
            "text/plain": [
              "MultinomialNB()"
            ]
          },
          "metadata": {},
          "execution_count": 35
        }
      ]
    },
    {
      "cell_type": "code",
      "source": [
        "y_pred = clf.predict(scaled_test_embed)\n",
        "from sklearn.metrics import classification_report\n",
        "print(classification_report (y_test, y_pred))\n",
        "\n"
      ],
      "metadata": {
        "colab": {
          "base_uri": "https://localhost:8080/"
        },
        "id": "tNYcb2A_6RZj",
        "outputId": "c29e24ca-5448-4fa6-f221-c1b7dd3d7291"
      },
      "execution_count": 36,
      "outputs": [
        {
          "output_type": "stream",
          "name": "stdout",
          "text": [
            "              precision    recall  f1-score   support\n",
            "\n",
            "           0       0.93      1.00      0.96      5960\n",
            "           1       0.00      0.00      0.00       433\n",
            "\n",
            "    accuracy                           0.93      6393\n",
            "   macro avg       0.47      0.50      0.48      6393\n",
            "weighted avg       0.87      0.93      0.90      6393\n",
            "\n"
          ]
        },
        {
          "output_type": "stream",
          "name": "stderr",
          "text": [
            "/usr/local/lib/python3.7/dist-packages/sklearn/metrics/_classification.py:1318: UndefinedMetricWarning: Precision and F-score are ill-defined and being set to 0.0 in labels with no predicted samples. Use `zero_division` parameter to control this behavior.\n",
            "  _warn_prf(average, modifier, msg_start, len(result))\n",
            "/usr/local/lib/python3.7/dist-packages/sklearn/metrics/_classification.py:1318: UndefinedMetricWarning: Precision and F-score are ill-defined and being set to 0.0 in labels with no predicted samples. Use `zero_division` parameter to control this behavior.\n",
            "  _warn_prf(average, modifier, msg_start, len(result))\n",
            "/usr/local/lib/python3.7/dist-packages/sklearn/metrics/_classification.py:1318: UndefinedMetricWarning: Precision and F-score are ill-defined and being set to 0.0 in labels with no predicted samples. Use `zero_division` parameter to control this behavior.\n",
            "  _warn_prf(average, modifier, msg_start, len(result))\n"
          ]
        }
      ]
    },
    {
      "cell_type": "markdown",
      "source": [
        "**2.KNeighborsClassifier**\n"
      ],
      "metadata": {
        "id": "BtXSXV2eSjz8"
      }
    },
    {
      "cell_type": "code",
      "source": [
        "from  sklearn.neighbors import KNeighborsClassifier\n",
        "clf = KNeighborsClassifier(n_neighbors = 5, metric = 'euclidean')\n",
        "clf.fit(X_train_2d, y_train)\n",
        "y_pred = clf.predict(X_test_2d)\n",
        "from sklearn.metrics import classification_report\n",
        "print(classification_report(y_test, y_pred))"
      ],
      "metadata": {
        "colab": {
          "base_uri": "https://localhost:8080/"
        },
        "id": "BlUeBk286Rs1",
        "outputId": "b711f073-dafc-4900-f75d-06b70c7a1058"
      },
      "execution_count": 37,
      "outputs": [
        {
          "output_type": "stream",
          "name": "stdout",
          "text": [
            "              precision    recall  f1-score   support\n",
            "\n",
            "           0       0.95      0.99      0.97      5960\n",
            "           1       0.76      0.23      0.35       433\n",
            "\n",
            "    accuracy                           0.94      6393\n",
            "   macro avg       0.85      0.61      0.66      6393\n",
            "weighted avg       0.93      0.94      0.93      6393\n",
            "\n"
          ]
        }
      ]
    },
    {
      "cell_type": "markdown",
      "source": [
        "**3.SVM**"
      ],
      "metadata": {
        "id": "I6eKIcV8c2m1"
      }
    },
    {
      "cell_type": "code",
      "source": [
        "from  sklearn.svm import SVC\n",
        "model=SVC(kernel=\"linear\")\n",
        "model.fit(X_train_2d, y_train)\n",
        "y_pred = model.predict(X_test_2d)\n",
        "\n",
        "from sklearn.metrics import classification_report\n",
        "print(classification_report(y_test, y_pred))"
      ],
      "metadata": {
        "colab": {
          "base_uri": "https://localhost:8080/"
        },
        "id": "Ip2hVeS8ZNL_",
        "outputId": "a395eaca-dad5-4074-97e1-276a1750573d"
      },
      "execution_count": 44,
      "outputs": [
        {
          "output_type": "stream",
          "name": "stdout",
          "text": [
            "              precision    recall  f1-score   support\n",
            "\n",
            "           0       0.93      1.00      0.96      5960\n",
            "           1       0.00      0.00      0.00       433\n",
            "\n",
            "    accuracy                           0.93      6393\n",
            "   macro avg       0.47      0.50      0.48      6393\n",
            "weighted avg       0.87      0.93      0.90      6393\n",
            "\n"
          ]
        },
        {
          "output_type": "stream",
          "name": "stderr",
          "text": [
            "/usr/local/lib/python3.7/dist-packages/sklearn/metrics/_classification.py:1318: UndefinedMetricWarning: Precision and F-score are ill-defined and being set to 0.0 in labels with no predicted samples. Use `zero_division` parameter to control this behavior.\n",
            "  _warn_prf(average, modifier, msg_start, len(result))\n",
            "/usr/local/lib/python3.7/dist-packages/sklearn/metrics/_classification.py:1318: UndefinedMetricWarning: Precision and F-score are ill-defined and being set to 0.0 in labels with no predicted samples. Use `zero_division` parameter to control this behavior.\n",
            "  _warn_prf(average, modifier, msg_start, len(result))\n",
            "/usr/local/lib/python3.7/dist-packages/sklearn/metrics/_classification.py:1318: UndefinedMetricWarning: Precision and F-score are ill-defined and being set to 0.0 in labels with no predicted samples. Use `zero_division` parameter to control this behavior.\n",
            "  _warn_prf(average, modifier, msg_start, len(result))\n"
          ]
        }
      ]
    },
    {
      "cell_type": "markdown",
      "source": [
        "**Confusin Matrix**"
      ],
      "metadata": {
        "id": "AgfJmf6ZdCat"
      }
    },
    {
      "cell_type": "code",
      "source": [
        "from sklearn.metrics import confusion_matrix\n",
        "cm = confusion_matrix(y_test, y_pred)\n",
        "cm\n",
        "\n",
        "from matplotlib import pyplot as plt\n",
        "import seaborn as sn\n",
        "plt.figure(figsize = (10,7))\n",
        "sn.heatmap(cm, annot=True, fmt='d')\n",
        "plt.xlabel('Prediction')\n",
        "plt.ylabel('Truth')"
      ],
      "metadata": {
        "colab": {
          "base_uri": "https://localhost:8080/",
          "height": 459
        },
        "id": "u5fo3tIJ6R79",
        "outputId": "ce68f680-9022-486c-d348-7c3678e5ef8d"
      },
      "execution_count": 45,
      "outputs": [
        {
          "output_type": "execute_result",
          "data": {
            "text/plain": [
              "Text(69.0, 0.5, 'Truth')"
            ]
          },
          "metadata": {},
          "execution_count": 45
        },
        {
          "output_type": "display_data",
          "data": {
            "text/plain": [
              "<Figure size 720x504 with 2 Axes>"
            ],
            "image/png": "[encoded data removed]"
          },
          "metadata": {
            "needs_background": "light"
          }
        }
      ]
    }
  ]
}